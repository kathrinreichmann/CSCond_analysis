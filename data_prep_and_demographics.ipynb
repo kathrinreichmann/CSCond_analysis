{
 "cells": [
  {
   "cell_type": "markdown",
   "metadata": {},
   "source": [
    "# Data Analysis: Manipulating CS Variability"
   ]
  },
  {
   "cell_type": "markdown",
   "metadata": {},
   "source": [
    "Januar - 2021, Kathrin Reichmann"
   ]
  },
  {
   "cell_type": "markdown",
   "metadata": {},
   "source": [
    "Content: \n",
    "    (1) Data preparation\n",
    "    (2) Demographics\n"
   ]
  },
  {
   "cell_type": "markdown",
   "metadata": {},
   "source": [
    "## Read Tables"
   ]
  },
  {
   "cell_type": "markdown",
   "metadata": {},
   "source": [
    "Load packages"
   ]
  },
  {
   "cell_type": "code",
   "execution_count": 6,
   "metadata": {},
   "outputs": [],
   "source": [
    "setwd(\"\\\\\\\\sn00.zdv.uni-tuebingen.de/siskr01/Documents/Github/CSCond_online/data\")\n",
    "\n",
    "library(dplyr)\n",
    "#library(tidyverse)"
   ]
  },
  {
   "cell_type": "markdown",
   "metadata": {},
   "source": [
    "Read Tables"
   ]
  },
  {
   "cell_type": "code",
   "execution_count": 7,
   "metadata": {},
   "outputs": [],
   "source": [
    "filenames <- dir()\n",
    "dat <- data.frame()\n",
    "for (i in filenames){\n",
    "  dat <- rbind(dat, read.table(i, header = TRUE, sep = \",\", encoding = \"UTF-8\"))\n",
    "}"
   ]
  },
  {
   "cell_type": "code",
   "execution_count": 21,
   "metadata": {},
   "outputs": [
    {
     "name": "stderr",
     "output_type": "stream",
     "text": [
      "Warning message in rbind(parts$upper, ellip_v, parts$lower, deparse.level = 0L):\n",
      "\"number of columns of result is not a multiple of vector length (arg 2)\""
     ]
    },
    {
     "data": {
      "text/html": [],
      "text/latex": [],
      "text/markdown": [],
      "text/plain": [
       "     \n",
       "1    \n",
       "2    \n",
       "3    \n",
       "4    \n",
       "5    \n",
       "6    \n",
       "7    \n",
       "8    \n",
       "9    \n",
       "10   \n",
       "11   \n",
       "12   \n",
       "13   \n",
       "14   \n",
       "15   \n",
       "16   \n",
       "17   \n",
       "18   \n",
       "19   \n",
       "20   \n",
       "21   \n",
       "22   \n",
       "23   \n",
       "24   \n",
       "25   \n",
       "26   \n",
       "27   \n",
       "28   \n",
       "29   \n",
       "30   \n",
       "...  \n",
       "71293\n",
       "71294\n",
       "71295\n",
       "71296\n",
       "71297\n",
       "71298\n",
       "71299\n",
       "71300\n",
       "71301\n",
       "71302\n",
       "71303\n",
       "71304\n",
       "71305\n",
       "71306\n",
       "71307\n",
       "71308\n",
       "71309\n",
       "71310\n",
       "71311\n",
       "71312\n",
       "71313\n",
       "71314\n",
       "71315\n",
       "71316\n",
       "71317\n",
       "71318\n",
       "71319\n",
       "71320\n",
       "71321\n",
       "71322"
      ]
     },
     "metadata": {},
     "output_type": "display_data"
    }
   ],
   "source": [
    "str(dat)"
   ]
  },
  {
   "cell_type": "markdown",
   "metadata": {},
   "source": [
    "Check comments"
   ]
  },
  {
   "cell_type": "code",
   "execution_count": 9,
   "metadata": {},
   "outputs": [],
   "source": [
    "comments_one <- dat$responses[dat$trial_type == \"survey-text\" & dat$condition == \"one_one\"]\n",
    "#comments_one"
   ]
  },
  {
   "cell_type": "code",
   "execution_count": 10,
   "metadata": {},
   "outputs": [],
   "source": [
    "comments_many <- dat$responses[dat$trial_type == \"survey-text\" & dat$condition == \"many_one\"]\n",
    "#comments_many"
   ]
  },
  {
   "cell_type": "markdown",
   "metadata": {},
   "source": [
    "## Data Prep"
   ]
  },
  {
   "cell_type": "markdown",
   "metadata": {},
   "source": [
    "Exclude participants?"
   ]
  },
  {
   "cell_type": "code",
   "execution_count": 11,
   "metadata": {},
   "outputs": [
    {
     "data": {
      "text/html": [
       "238"
      ],
      "text/latex": [
       "238"
      ],
      "text/markdown": [
       "238"
      ],
      "text/plain": [
       "[1] 238"
      ]
     },
     "metadata": {},
     "output_type": "display_data"
    }
   ],
   "source": [
    "# total before excluding participants\n",
    "length(unique(dat$subject))"
   ]
  },
  {
   "cell_type": "code",
   "execution_count": 12,
   "metadata": {},
   "outputs": [],
   "source": [
    "dat$subject <- factor(dat$subject)\n",
    "dat$response <- as.numeric(dat$response)\n",
    "dat$responses <- as.numeric(dat$responses)\n",
    "dat$rt <- as.numeric(dat$rt)"
   ]
  },
  {
   "cell_type": "code",
   "execution_count": 13,
   "metadata": {},
   "outputs": [
    {
     "data": {
      "text/plain": [
       "\n",
       "  0   1   2 \n",
       " 24 211   3 "
      ]
     },
     "metadata": {},
     "output_type": "display_data"
    }
   ],
   "source": [
    "#chinese speaking participants\n",
    "#0 = ja\n",
    "get_tables <- aggregate(response ~ subject + chinese, dat, mean)\n",
    "table(get_tables$chinese)\n",
    "dat <- dat[!dat$chinese == \"0\",]"
   ]
  },
  {
   "cell_type": "code",
   "execution_count": 14,
   "metadata": {},
   "outputs": [
    {
     "data": {
      "text/plain": [
       "\n",
       "  0   1 \n",
       "213   1 "
      ]
     },
     "metadata": {},
     "output_type": "display_data"
    }
   ],
   "source": [
    "#participants who did not pay attention\n",
    "get_tables <- aggregate(response ~ subject + hinschauen, dat, mean)\n",
    "table(get_tables$hinschauen) #1 = nicht hinschauen\n",
    "dat <- dat[!dat$hinschauen == \"1\",]\n",
    "#table(dat$hinschauen)"
   ]
  },
  {
   "cell_type": "code",
   "execution_count": 15,
   "metadata": {},
   "outputs": [
    {
     "data": {
      "text/plain": [
       "\n",
       "  0   1 \n",
       " 10 200 "
      ]
     },
     "metadata": {},
     "output_type": "display_data"
    }
   ],
   "source": [
    "#who were distracted\n",
    "get_tables <- aggregate(response ~ subject + ablenkung, dat, mean)\n",
    "table(get_tables$ablenkung) # 0 = abgelenkt\n",
    "dat <- dat[!dat$ablenkung == \"0\",]\n",
    "#table(dat$ablenkung)"
   ]
  },
  {
   "cell_type": "code",
   "execution_count": 16,
   "metadata": {},
   "outputs": [
    {
     "data": {
      "text/plain": [
       "\n",
       "  0 \n",
       "200 "
      ]
     },
     "metadata": {},
     "output_type": "display_data"
    }
   ],
   "source": [
    "#who did not follow instructions\n",
    "get_tables <- aggregate(response ~ subject + gewissenhaft, dat, mean)\n",
    "table(get_tables$gewissenhaft) # 1 = nicht gewissenhaft"
   ]
  },
  {
   "cell_type": "code",
   "execution_count": 60,
   "metadata": {},
   "outputs": [],
   "source": [
    "#always clicked the same answer in direct measure\n",
    "subjects <- ggplot(dat, aes (x= subject, y = response, col = subject)) +\n",
    "                geom_point(show.legend = FALSE)\n",
    "#subjects"
   ]
  },
  {
   "cell_type": "code",
   "execution_count": 326,
   "metadata": {},
   "outputs": [
    {
     "data": {
      "text/html": [
       "15294.7167311386"
      ],
      "text/latex": [
       "15294.7167311386"
      ],
      "text/markdown": [
       "15294.7167311386"
      ],
      "text/plain": [
       "[1] 15294.72"
      ]
     },
     "metadata": {},
     "output_type": "display_data"
    },
    {
     "data": {
      "text/html": [
       "<table>\n",
       "<thead><tr><th scope=col>subject</th><th scope=col>rt</th></tr></thead>\n",
       "<tbody>\n",
       "</tbody>\n",
       "</table>\n"
      ],
      "text/latex": [
       "\\begin{tabular}{r|ll}\n",
       " subject & rt\\\\\n",
       "\\hline\n",
       "\\end{tabular}\n"
      ],
      "text/markdown": [
       "\n",
       "| subject | rt |\n",
       "|---|---|\n",
       "\n"
      ],
      "text/plain": [
       "     subject rt"
      ]
     },
     "metadata": {},
     "output_type": "display_data"
    }
   ],
   "source": [
    "#answered too slowly in indirect measure (rt > 3 SDs)\n",
    "exclude <- aggregate(rt ~ subject, dat, mean)\n",
    "exclusion_sd <- sd(na.omit(dat$rt))*3\n",
    "exclusion_sd\n",
    "exclude[exclude$rt > exclusion_sd,]"
   ]
  },
  {
   "cell_type": "code",
   "execution_count": 17,
   "metadata": {},
   "outputs": [
    {
     "data": {
      "text/html": [
       "201"
      ],
      "text/latex": [
       "201"
      ],
      "text/markdown": [
       "201"
      ],
      "text/plain": [
       "[1] 201"
      ]
     },
     "metadata": {},
     "output_type": "display_data"
    }
   ],
   "source": [
    "#total after excluding participants\n",
    "length(unique(dat$subject))"
   ]
  },
  {
   "cell_type": "code",
   "execution_count": 18,
   "metadata": {},
   "outputs": [
    {
     "data": {
      "text/plain": [
       "\n",
       "many_one  one_one \n",
       "      99      101 "
      ]
     },
     "metadata": {},
     "output_type": "display_data"
    }
   ],
   "source": [
    "#condition\n",
    "get_tables <- aggregate(response ~ subject + condition, dat, mean)\n",
    "table(get_tables$condition)"
   ]
  },
  {
   "cell_type": "code",
   "execution_count": 19,
   "metadata": {},
   "outputs": [
    {
     "data": {
      "text/plain": [
       "\n",
       "indirect_first   direct_first \n",
       "            93            107 "
      ]
     },
     "metadata": {},
     "output_type": "display_data"
    }
   ],
   "source": [
    "#measure\n",
    "get_tables <- aggregate(response ~ subject + measure, dat, mean)\n",
    "table(get_tables$measure)"
   ]
  },
  {
   "cell_type": "markdown",
   "metadata": {},
   "source": [
    "delete columns that we don't need"
   ]
  },
  {
   "cell_type": "code",
   "execution_count": 20,
   "metadata": {},
   "outputs": [],
   "source": [
    "#data.frame(colnames(dat))\n",
    "dat[,1:5] <- NULL\n",
    "dat$codeword <- NULL\n",
    "dat$url <- NULL"
   ]
  },
  {
   "cell_type": "markdown",
   "metadata": {},
   "source": [
    "convert to factor later on"
   ]
  },
  {
   "cell_type": "code",
   "execution_count": 21,
   "metadata": {},
   "outputs": [],
   "source": [
    "as_factor <- c(\"subject\", \"val\", \"condition_code\", \"condition\", \"measure\", \"measure_code\", \"type\", \"type_specific\", \"category\", \"cs_selected\")"
   ]
  },
  {
   "cell_type": "markdown",
   "metadata": {},
   "source": [
    "Adapt names of stimuli"
   ]
  },
  {
   "cell_type": "code",
   "execution_count": 22,
   "metadata": {},
   "outputs": [],
   "source": [
    "as.factor(gsub(\".png$\", \"\", dat$target))-> dat$target\n",
    "as.factor(gsub(\"targets/\", \"\", dat$target))-> dat$target\n",
    "as.factor(gsub(\".png$\", \"\", dat$cs_selected))-> dat$cs_selected\n",
    "as.factor(gsub(\"category\", \"\", dat$cs_selected))-> dat$cs_selected"
   ]
  },
  {
   "cell_type": "markdown",
   "metadata": {},
   "source": [
    "## Demographics "
   ]
  },
  {
   "cell_type": "code",
   "execution_count": 23,
   "metadata": {},
   "outputs": [],
   "source": [
    "demographics <- dat[c('subject', 'age', 'gender', 'education', 'chinese', 'handedness')]\n",
    "demographics <- aggregate(. ~ subject, demographics, median);\n"
   ]
  },
  {
   "cell_type": "code",
   "execution_count": 24,
   "metadata": {},
   "outputs": [
    {
     "data": {
      "text/plain": [
       "\n",
       "  1   2   4 \n",
       "189  10   1 "
      ]
     },
     "metadata": {},
     "output_type": "display_data"
    }
   ],
   "source": [
    "table(demographics$education)\n",
    "#education\n",
    "#1\tStudierende/r\n",
    "#2\tBerufstätig\n",
    "#3\tArbeitssuchend\n",
    "#4\tkeine Angabe"
   ]
  },
  {
   "cell_type": "code",
   "execution_count": 25,
   "metadata": {},
   "outputs": [
    {
     "data": {
      "text/plain": [
       "\n",
       "  0   1   2   3 \n",
       "149  48   1   2 "
      ]
     },
     "metadata": {},
     "output_type": "display_data"
    }
   ],
   "source": [
    "##gender\n",
    "#0\tweiblich\n",
    "#1\tmännlich\n",
    "#2\tdivers\n",
    "#3\tkeine Angabe\n",
    "table(demographics$gender)\n",
    "#149/201\n",
    "#48/201"
   ]
  },
  {
   "cell_type": "code",
   "execution_count": 26,
   "metadata": {},
   "outputs": [
    {
     "data": {
      "text/plain": [
       "   Min. 1st Qu.  Median    Mean 3rd Qu.    Max. \n",
       "  18.00   21.00   23.00   24.14   25.00   69.00 "
      ]
     },
     "metadata": {},
     "output_type": "display_data"
    }
   ],
   "source": [
    "summary(demographics$age)"
   ]
  },
  {
   "cell_type": "markdown",
   "metadata": {},
   "source": [
    "## Direct Measure "
   ]
  },
  {
   "cell_type": "markdown",
   "metadata": {},
   "source": [
    "### Data Preparation & Extract relevant columns"
   ]
  },
  {
   "cell_type": "code",
   "execution_count": 27,
   "metadata": {},
   "outputs": [],
   "source": [
    "#extract relevant columns\n",
    "direct <- dat[dat$task == \"direct\" | dat$task == \"all\",] \n",
    "direct <- direct[c('response', 'subject', 'condition', 'condition_code', 'measure', 'measure_code', 'val', 'type', 'type_specific', 'category', 'cs_selected')]\n",
    "\n",
    "for (factor in as_factor){\n",
    "  direct[, factor] <- as.factor(direct[,factor])\n",
    "}\n",
    "\n",
    "direct$type_specific <- factor(direct$type_specific, levels = c('CS', 'GSold', 'GSnew', 'abstract', 'all'))\n",
    "direct$response <- as.numeric(direct$response)\n",
    "#str(direct)"
   ]
  },
  {
   "cell_type": "code",
   "execution_count": null,
   "metadata": {},
   "outputs": [],
   "source": [
    "#rename levels of type_specific\n",
    "\n",
    "direct$type_specific <- factor(direct$type_specific, levels = c(\"CS\", \"GSold\", \"GSnew\", \"abstract\", \"all\"), labels = c(\"CS\", \"GSsim\", \"GSdiff\", \"Feature\", \"All\"))\n"
   ]
  },
  {
   "cell_type": "code",
   "execution_count": 100,
   "metadata": {},
   "outputs": [],
   "source": [
    "#export files\n",
    "setwd(\"\\\\\\\\sn00.zdv.uni-tuebingen.de/siskr01/Documents/Github/CSCond_analysis/CSCond_analysis/data\")\n",
    "#setwd(\"C:/Users/reich/Documents/GitHub/CSCond_analysis\")\n",
    "write.csv2(direct, file = 'direct.csv')"
   ]
  },
  {
   "cell_type": "markdown",
   "metadata": {},
   "source": [
    "##  Indirect Measure"
   ]
  },
  {
   "cell_type": "markdown",
   "metadata": {},
   "source": [
    "indirect: 0 = unangenehm, 1 = angenehm"
   ]
  },
  {
   "cell_type": "markdown",
   "metadata": {},
   "source": [
    "### Data preparation & Extract relevant columns"
   ]
  },
  {
   "cell_type": "code",
   "execution_count": 49,
   "metadata": {},
   "outputs": [],
   "source": [
    "#extract relevant columns\n",
    "indirect <- dat[dat$task == \"indirect\",]\n",
    "indirect <- indirect[c('indirect', 'rt', 'subject', 'condition', 'condition_code', 'measure', 'measure_code', 'val', 'type', 'type_specific', 'category', 'cs_selected', 'target', 'nr_pres')]\n",
    "\n",
    "as_factor <- append(as_factor, \"target\")\n",
    "for (factor in as_factor){\n",
    "  indirect[, factor] <- as.factor(indirect[,factor])\n",
    "}"
   ]
  },
  {
   "cell_type": "code",
   "execution_count": 50,
   "metadata": {},
   "outputs": [
    {
     "name": "stdout",
     "output_type": "stream",
     "text": [
      "'data.frame':\t8921 obs. of  14 variables:\n",
      " $ rt            : num  68 76 18 5 10 25 13 110 44 53 ...\n",
      " $ subject       : Factor w/ 238 levels \"02a80kdxm7\",\"03rysffm8e\",..: 1 1 1 1 1 1 1 1 1 1 ...\n",
      " $ condition     : Factor w/ 2 levels \"many_one\",\"one_one\": 1 1 1 1 1 1 1 1 1 1 ...\n",
      " $ condition_code: Factor w/ 2 levels \"0\",\"1\": 1 1 1 1 1 1 1 1 1 1 ...\n",
      " $ measure       : Factor w/ 2 levels \"indirect_first\",..: 1 1 1 1 1 1 1 1 1 1 ...\n",
      " $ measure_code  : Factor w/ 2 levels \"0\",\"1\": 1 1 1 1 1 1 1 1 1 1 ...\n",
      " $ val           : Factor w/ 3 levels \"\",\"neg\",\"pos\": 3 3 3 3 3 2 2 3 3 2 ...\n",
      " $ type          : Factor w/ 4 levels \"\",\"All\",\"CS\",..: 3 3 3 3 4 3 3 3 3 4 ...\n",
      " $ type_specific : Factor w/ 6 levels \"\",\"abstract\",..: 4 4 4 4 6 4 4 4 4 6 ...\n",
      " $ category      : Factor w/ 4 levels \"1\",\"2\",\"3\",\"4\": 3 4 4 3 3 2 1 4 4 2 ...\n",
      " $ cs_selected   : Factor w/ 61 levels \"\",\"1/CS1\",\"1/CS10\",..: 35 47 51 41 34 17 8 56 53 24 ...\n",
      " $ target        : Factor w/ 49 levels \"\",\"1\",\"10\",\"11\",..: 41 32 17 23 16 10 38 43 31 4 ...\n",
      " $ nr_pres       : num  0 1 2 3 4 5 6 7 8 9 ...\n",
      " $ response      : num  0 1 0 1 1 0 1 1 1 1 ...\n"
     ]
    }
   ],
   "source": [
    "indirect$response <- as.numeric(indirect$indirect)\n",
    "indirect$indirect <- NULL\n",
    "indirect$nr_pres <- as.numeric(indirect$nr_pres)\n",
    "indirect$rt <- as.numeric(indirect$rt)\n",
    "str(indirect)"
   ]
  },
  {
   "cell_type": "code",
   "execution_count": 51,
   "metadata": {},
   "outputs": [],
   "source": [
    "indirect$type_specific <- factor(indirect$type_specific, levels = c('CS', 'GSold', 'GSnew', 'abstract'))"
   ]
  },
  {
   "cell_type": "code",
   "execution_count": 232,
   "metadata": {},
   "outputs": [],
   "source": [
    "#export files\n",
    "#setwd(\"\\\\\\\\sn00.zdv.uni-tuebingen.de/siskr01/Documents/Github/CSCond_analysis/CSCond_analysis/data\")\n",
    "#setwd(\"C:/Users/reich/Documents/GitHub/CSCond_analysis\")\n",
    "#write.csv2(indirect, file = 'indirect.csv')"
   ]
  }
 ],
 "metadata": {
  "kernelspec": {
   "display_name": "R",
   "language": "R",
   "name": "ir"
  },
  "language_info": {
   "codemirror_mode": "r",
   "file_extension": ".r",
   "mimetype": "text/x-r-source",
   "name": "R",
   "pygments_lexer": "r",
   "version": "3.6.1"
  }
 },
 "nbformat": 4,
 "nbformat_minor": 4
}
