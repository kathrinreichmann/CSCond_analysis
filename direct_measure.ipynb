{
 "cells": [
  {
   "cell_type": "markdown",
   "metadata": {},
   "source": [
    "# Data Analysis: Manipulating CS Variability"
   ]
  },
  {
   "cell_type": "markdown",
   "metadata": {},
   "source": [
    "Januar - 2021, Kathrin Reichmann"
   ]
  },
  {
   "cell_type": "markdown",
   "metadata": {},
   "source": [
    "Content: *Analysis of direct Measure*\n",
    "\n",
    "    (1) \n",
    "    (1) variability (one-to-one vs. many-to-one) x type (CS vs. GS same)\n",
    "    (2) variability x type (CS vs. GS same vs. GS diff vs. feature)\n",
    "    (3) variability x type x measure (direct first vs. indirect first)\n",
    "    (4) including category level\n",
    "    (5) including "
   ]
  },
  {
   "cell_type": "code",
   "execution_count": null,
   "metadata": {},
   "outputs": [],
   "source": []
  },
  {
   "cell_type": "markdown",
   "metadata": {},
   "source": [
    "## Read Tables"
   ]
  },
  {
   "cell_type": "markdown",
   "metadata": {},
   "source": [
    "Load packages"
   ]
  },
  {
   "cell_type": "code",
   "execution_count": 2,
   "metadata": {},
   "outputs": [],
   "source": [
    "setwd(\"C:/Users/reich/Documents/GitHub/FLO_replication/CScond_online/data\")\n",
    "\n",
    "library(dplyr)\n",
    "#library(tidyverse)"
   ]
  },
  {
   "cell_type": "code",
   "execution_count": 4,
   "metadata": {},
   "outputs": [],
   "source": [
    "#Plot\n",
    "library(ggplot2)"
   ]
  },
  {
   "cell_type": "code",
   "execution_count": 6,
   "metadata": {},
   "outputs": [],
   "source": [
    "#Analysis\n",
    "library(afex)\n",
    "library(lme4)"
   ]
  },
  {
   "cell_type": "markdown",
   "metadata": {},
   "source": [
    "Add Functions"
   ]
  },
  {
   "cell_type": "code",
   "execution_count": 7,
   "metadata": {},
   "outputs": [],
   "source": [
    "#Functions\n",
    "CI <- function(x) qnorm(0.975)*sd(x)/sqrt(length(x))\n",
    "se <- function(x) sd(x)/sqrt(length(x))"
   ]
  },
  {
   "cell_type": "markdown",
   "metadata": {},
   "source": [
    "Read Tables"
   ]
  },
  {
   "cell_type": "code",
   "execution_count": 5,
   "metadata": {},
   "outputs": [],
   "source": [
    "#export files\n",
    "setwd(\"\\\\\\\\sn00.zdv.uni-tuebingen.de/siskr01/Documents/Github/CSCond_analysis/CSCond_analysis/data\")\n",
    "#setwd(\"C:/Users/reich/Documents/GitHub/CSCond_analysis\")\n",
    "direct <- read.csv2('direct.csv', header = TRUE)"
   ]
  },
  {
   "cell_type": "code",
   "execution_count": 6,
   "metadata": {},
   "outputs": [
    {
     "name": "stdout",
     "output_type": "stream",
     "text": [
      "'data.frame':\t9721 obs. of  12 variables:\n",
      " $ X             : Factor w/ 9720 levels \"10000\",\"10001\",..: 2219 2220 2273 2282 2293 2352 2365 2366 2403 2404 ...\n",
      " $ response      : int  21 -51 40 -79 -86 -70 -100 25 -37 -58 ...\n",
      " $ subject       : Factor w/ 200 levels \"02a80kdxm7\",\"03rysffm8e\",..: 1 1 1 1 1 1 1 1 1 1 ...\n",
      " $ condition     : Factor w/ 2 levels \"many_one\",\"one_one\": 1 1 1 1 1 1 1 1 1 1 ...\n",
      " $ condition_code: int  0 0 0 0 0 0 0 0 0 0 ...\n",
      " $ measure       : Factor w/ 2 levels \"direct_first\",..: 2 2 2 2 2 2 2 2 2 2 ...\n",
      " $ measure_code  : int  0 0 0 0 0 0 0 0 0 0 ...\n",
      " $ val           : Factor w/ 2 levels \"neg\",\"pos\": 2 2 1 2 1 1 1 2 1 1 ...\n",
      " $ type          : Factor w/ 3 levels \"All\",\"CS\",\"GS\": 3 3 2 3 2 3 2 2 3 3 ...\n",
      " $ type_specific : Factor w/ 5 levels \"abstract\",\"all\",..: 5 5 3 5 3 1 3 3 4 5 ...\n",
      " $ category      : int  4 3 1 3 1 2 2 4 2 2 ...\n",
      " $ cs_selected   : Factor w/ 60 levels \"1/CS1\",\"1/CS10\",..: 53 33 2 32 7 29 21 55 26 22 ...\n"
     ]
    }
   ],
   "source": [
    "str(direct)"
   ]
  },
  {
   "cell_type": "code",
   "execution_count": 28,
   "metadata": {},
   "outputs": [
    {
     "data": {
      "text/html": [
       "<table>\n",
       "<thead><tr><th scope=col>subject</th><th scope=col>condition</th><th scope=col>measure</th><th scope=col>val</th><th scope=col>type_specific</th><th scope=col>response</th><th scope=col>nr_obs</th><th scope=col>diff</th></tr></thead>\n",
       "<tbody>\n",
       "\t<tr><td>02a80kdxm7    </td><td>many_one      </td><td>indirect_first</td><td>neg           </td><td>CS            </td><td>-31.7         </td><td>10            </td><td> 13.4         </td></tr>\n",
       "\t<tr><td>03rysffm8e    </td><td>many_one      </td><td>indirect_first</td><td>neg           </td><td>CS            </td><td> 12.1         </td><td>10            </td><td> -4.0         </td></tr>\n",
       "\t<tr><td>0m0jrs2srj    </td><td>many_one      </td><td>indirect_first</td><td>neg           </td><td>CS            </td><td>-39.5         </td><td>10            </td><td> 90.4         </td></tr>\n",
       "\t<tr><td>12gexjlo94    </td><td>many_one      </td><td>indirect_first</td><td>neg           </td><td>CS            </td><td>-25.6         </td><td>10            </td><td> 64.8         </td></tr>\n",
       "\t<tr><td>26btee9n2n    </td><td>many_one      </td><td>indirect_first</td><td>neg           </td><td>CS            </td><td> -7.6         </td><td>10            </td><td> 35.1         </td></tr>\n",
       "\t<tr><td>2aj9uo7pfl    </td><td>many_one      </td><td>indirect_first</td><td>neg           </td><td>CS            </td><td>-54.1         </td><td>10            </td><td>100.4         </td></tr>\n",
       "</tbody>\n",
       "</table>\n"
      ],
      "text/latex": [
       "\\begin{tabular}{r|llllllll}\n",
       " subject & condition & measure & val & type\\_specific & response & nr\\_obs & diff\\\\\n",
       "\\hline\n",
       "\t 02a80kdxm7       & many\\_one       & indirect\\_first & neg              & CS               & -31.7            & 10               &  13.4           \\\\\n",
       "\t 03rysffm8e       & many\\_one       & indirect\\_first & neg              & CS               &  12.1            & 10               &  -4.0           \\\\\n",
       "\t 0m0jrs2srj       & many\\_one       & indirect\\_first & neg              & CS               & -39.5            & 10               &  90.4           \\\\\n",
       "\t 12gexjlo94       & many\\_one       & indirect\\_first & neg              & CS               & -25.6            & 10               &  64.8           \\\\\n",
       "\t 26btee9n2n       & many\\_one       & indirect\\_first & neg              & CS               &  -7.6            & 10               &  35.1           \\\\\n",
       "\t 2aj9uo7pfl       & many\\_one       & indirect\\_first & neg              & CS               & -54.1            & 10               & 100.4           \\\\\n",
       "\\end{tabular}\n"
      ],
      "text/markdown": [
       "\n",
       "| subject | condition | measure | val | type_specific | response | nr_obs | diff |\n",
       "|---|---|---|---|---|---|---|---|\n",
       "| 02a80kdxm7     | many_one       | indirect_first | neg            | CS             | -31.7          | 10             |  13.4          |\n",
       "| 03rysffm8e     | many_one       | indirect_first | neg            | CS             |  12.1          | 10             |  -4.0          |\n",
       "| 0m0jrs2srj     | many_one       | indirect_first | neg            | CS             | -39.5          | 10             |  90.4          |\n",
       "| 12gexjlo94     | many_one       | indirect_first | neg            | CS             | -25.6          | 10             |  64.8          |\n",
       "| 26btee9n2n     | many_one       | indirect_first | neg            | CS             |  -7.6          | 10             |  35.1          |\n",
       "| 2aj9uo7pfl     | many_one       | indirect_first | neg            | CS             | -54.1          | 10             | 100.4          |\n",
       "\n"
      ],
      "text/plain": [
       "  subject    condition measure        val type_specific response nr_obs diff \n",
       "1 02a80kdxm7 many_one  indirect_first neg CS            -31.7    10      13.4\n",
       "2 03rysffm8e many_one  indirect_first neg CS             12.1    10      -4.0\n",
       "3 0m0jrs2srj many_one  indirect_first neg CS            -39.5    10      90.4\n",
       "4 12gexjlo94 many_one  indirect_first neg CS            -25.6    10      64.8\n",
       "5 26btee9n2n many_one  indirect_first neg CS             -7.6    10      35.1\n",
       "6 2aj9uo7pfl many_one  indirect_first neg CS            -54.1    10     100.4"
      ]
     },
     "metadata": {},
     "output_type": "display_data"
    }
   ],
   "source": [
    "#aggregate scores for each subject\n",
    "dataDirect <- aggregate(response ~ subject + condition + measure + val + type_specific, direct, mean)\n",
    "dataDirect$nr_obs <- aggregate(response ~ subject + condition + measure + val + type_specific, direct, length)[[6]]\n",
    "#dataDirect\n",
    "\n",
    "#calculate differences between positive and negative, for each subject when type_specific is the same\n",
    "for (subj in unique(dataDirect$subject)){\n",
    "  for (name in unique(dataDirect$type_specific)){\n",
    "    temp <- dataDirect[dataDirect$subject == subj & dataDirect$type_specific == name,];\n",
    "    dataDirect$diff[dataDirect$subject == subj & dataDirect$type_specific == name] <- temp$response[temp$val == \"pos\"] - temp$response[temp$val == \"neg\"]\n",
    "  }\n",
    "}\n",
    "\n",
    "head(dataDirect)"
   ]
  },
  {
   "cell_type": "markdown",
   "metadata": {},
   "source": [
    "### Inference Statistics"
   ]
  },
  {
   "cell_type": "markdown",
   "metadata": {},
   "source": [
    "#### Plot: interaction variability x type (on difference scores)"
   ]
  },
  {
   "cell_type": "code",
   "execution_count": 29,
   "metadata": {},
   "outputs": [
    {
     "data": {
      "image/png": "[encoded data removed]",
      "text/plain": [
       "plot without title"
      ]
     },
     "metadata": {},
     "output_type": "display_data"
    }
   ],
   "source": [
    "direct.type_specific <- aggregate(diff ~ condition + type_specific, dataDirect, mean)\n",
    "direct.type_specific$sd <- aggregate(diff ~ condition + type_specific, dataDirect, sd)[[3]]\n",
    "direct.type_specific$se <- aggregate(diff ~ condition + type_specific, dataDirect, se)[[3]]\n",
    "direct.type_specific$CI <- aggregate(diff ~ condition + type_specific, dataDirect, CI)[[3]]\n",
    "#direct.type_specific\n",
    "\n",
    "barplotDiff <- ggplot(direct.type_specific, aes (x = type_specific, y = diff, fill = condition)) +\n",
    "  geom_bar(stat = 'identity', position = position_dodge(), show.legend = TRUE) +\n",
    "  geom_errorbar(aes(ymin= diff - se, ymax= diff + se), width=.2,\n",
    "                position=position_dodge(.9)) +\n",
    "  ggtitle(\"Differences\") + \n",
    "  theme(plot.title = element_text (hjust = 0.5, face = \"bold\", size = 12)) +\n",
    "  scale_fill_brewer(palette = \"Paired\") +\n",
    "  scale_y_continuous (name = \"Pos - Neg\", breaks = seq(-25, 100, 25), limits = c(-10, 100))\n",
    "barplotDiff"
   ]
  },
  {
   "cell_type": "markdown",
   "metadata": {},
   "source": [
    "#### Boxplot: Differences Variability x Type"
   ]
  },
  {
   "cell_type": "code",
   "execution_count": 30,
   "metadata": {},
   "outputs": [
    {
     "name": "stderr",
     "output_type": "stream",
     "text": [
      "Warning message:\n",
      "\"Removed 326 rows containing non-finite values (stat_boxplot).\"Warning message:\n",
      "\"Removed 326 rows containing non-finite values (stat_boxplot).\""
     ]
    },
    {
     "data": {
      "image/png": "[encoded data removed]",
      "text/plain": [
       "plot without title"
      ]
     },
     "metadata": {},
     "output_type": "display_data"
    }
   ],
   "source": [
    "diffDirect <- ggplot(dataDirect, aes (x = type_specific, y = diff, fill = condition)) +\n",
    "  stat_boxplot(geom = \"errorbar\") +\n",
    "  geom_boxplot(show.legend = TRUE) +\n",
    "  ggtitle(\"Differences\") + \n",
    "  theme(plot.title = element_text (hjust = 0.5, face = \"bold\", size = 12)) +\n",
    "  scale_fill_brewer(palette = \"Blues\") +\n",
    "  scale_y_continuous (name = \"Pos - Neg\", breaks = seq(-100, 200, 25), limits = c(-50, 100))\n",
    "diffDirect"
   ]
  },
  {
   "cell_type": "markdown",
   "metadata": {},
   "source": [
    "#### Barplot: negative and positive Pairings"
   ]
  },
  {
   "cell_type": "code",
   "execution_count": 31,
   "metadata": {},
   "outputs": [
    {
     "data": {
      "image/png": "[encoded data removed]",
      "text/plain": [
       "plot without title"
      ]
     },
     "metadata": {},
     "output_type": "display_data"
    }
   ],
   "source": [
    "barplotDirect <- aggregate(response ~ type_specific + condition + val,direct, mean)\n",
    "barplotDirect$se <- aggregate(response ~ type_specific + condition + val, direct, se)[[4]]\n",
    "\n",
    "barplot.val <- ggplot(barplotDirect, aes (x = type_specific, y = response, fill = condition)) +\n",
    "  facet_grid(. ~ val) +\n",
    "  geom_bar(stat = 'identity', position = position_dodge(), show.legend = TRUE) +\n",
    "  geom_errorbar(aes(ymin= response - se, ymax= response + se), width=.2,\n",
    "                position=position_dodge(.9)) +\n",
    "  ggtitle(\"Positive and Negative Pairings\") + \n",
    "  theme(plot.title = element_text (hjust = 0.5, face = \"bold\", size = 12)) +\n",
    "  scale_fill_brewer(palette = \"Paired\") \n",
    "barplot.val"
   ]
  },
  {
   "cell_type": "markdown",
   "metadata": {},
   "source": [
    "#### ANOVA: Variability (one-one vs. many-one, between) vs. Type (CS vs. GSold, within) "
   ]
  },
  {
   "cell_type": "code",
   "execution_count": 32,
   "metadata": {},
   "outputs": [
    {
     "name": "stderr",
     "output_type": "stream",
     "text": [
      "Contrasts set to contr.sum for the following variables: condition\n"
     ]
    }
   ],
   "source": [
    "direct.type <- aggregate(diff ~ condition + type_specific + subject, dataDirect[dataDirect$type_specific == \"CS\" | dataDirect$type_specific == \"GSold\",], mean)\n",
    "aov_specific <- aov_car(diff ~ condition*type_specific + Error(subject/type_specific), direct.type, anova_table = list(\"pes\"))\n",
    "#summary(aov_specific)"
   ]
  },
  {
   "cell_type": "code",
   "execution_count": 135,
   "metadata": {},
   "outputs": [],
   "source": [
    "#main effect type\n",
    "#aggregate(diff ~ type_specific, direct.type, mean)"
   ]
  },
  {
   "cell_type": "code",
   "execution_count": 136,
   "metadata": {},
   "outputs": [],
   "source": [
    "#interaction effect\n",
    "#aggregate(diff ~ type_specific + condition, direct.type, mean)"
   ]
  },
  {
   "cell_type": "markdown",
   "metadata": {},
   "source": [
    "#### ANOVA: variability (one-one vs. many-one, between) vs.  type (CS vs. GSold vs. GSnew vs. abstract vs. all, within) "
   ]
  },
  {
   "cell_type": "code",
   "execution_count": 33,
   "metadata": {},
   "outputs": [
    {
     "name": "stderr",
     "output_type": "stream",
     "text": [
      "Warning message:\n",
      "\"More than one observation per cell, aggregating the data using mean (i.e, fun_aggregate = mean)!\"Contrasts set to contr.sum for the following variables: condition\n"
     ]
    },
    {
     "data": {
      "text/plain": [
       "Anova Table (Type 3 tests)\n",
       "\n",
       "Response: diff\n",
       "                   Effect           df     MSE         F  pes p.value\n",
       "1               condition       1, 198 7930.82   7.07 ** .034    .008\n",
       "2           type_specific 3.70, 732.60 1166.14 50.39 *** .203   <.001\n",
       "3 condition:type_specific 3.70, 732.60 1166.14 11.76 *** .056   <.001\n",
       "---\n",
       "Signif. codes:  0 '***' 0.001 '**' 0.01 '*' 0.05 '+' 0.1 ' ' 1\n",
       "\n",
       "Sphericity correction method: GG "
      ]
     },
     "metadata": {},
     "output_type": "display_data"
    }
   ],
   "source": [
    "aov_specific2 <- aov_car(diff ~ condition*type_specific + Error(subject/type_specific), dataDirect,  anova_table = list(\"pes\"))\n",
    "aov_specific2\n",
    "#summary(aov_specific2)"
   ]
  },
  {
   "cell_type": "code",
   "execution_count": 34,
   "metadata": {},
   "outputs": [
    {
     "data": {
      "text/html": [
       "<table>\n",
       "<thead><tr><th scope=col>condition</th><th scope=col>type_specific</th><th scope=col>diff</th></tr></thead>\n",
       "<tbody>\n",
       "\t<tr><td>many_one </td><td>CS       </td><td>54.524242</td></tr>\n",
       "\t<tr><td>one_one  </td><td>CS       </td><td>64.910891</td></tr>\n",
       "\t<tr><td>many_one </td><td>GSold    </td><td>46.772727</td></tr>\n",
       "\t<tr><td>one_one  </td><td>GSold    </td><td>24.610561</td></tr>\n",
       "\t<tr><td>many_one </td><td>GSnew    </td><td>21.030303</td></tr>\n",
       "\t<tr><td>one_one  </td><td>GSnew    </td><td> 9.866337</td></tr>\n",
       "\t<tr><td>many_one </td><td>abstract </td><td>43.116162</td></tr>\n",
       "\t<tr><td>one_one  </td><td>abstract </td><td>22.801980</td></tr>\n",
       "\t<tr><td>many_one </td><td>all      </td><td>62.545455</td></tr>\n",
       "\t<tr><td>one_one  </td><td>all      </td><td>30.920792</td></tr>\n",
       "</tbody>\n",
       "</table>\n"
      ],
      "text/latex": [
       "\\begin{tabular}{r|lll}\n",
       " condition & type\\_specific & diff\\\\\n",
       "\\hline\n",
       "\t many\\_one & CS         & 54.524242 \\\\\n",
       "\t one\\_one  & CS         & 64.910891 \\\\\n",
       "\t many\\_one & GSold      & 46.772727 \\\\\n",
       "\t one\\_one  & GSold      & 24.610561 \\\\\n",
       "\t many\\_one & GSnew      & 21.030303 \\\\\n",
       "\t one\\_one  & GSnew      &  9.866337 \\\\\n",
       "\t many\\_one & abstract   & 43.116162 \\\\\n",
       "\t one\\_one  & abstract   & 22.801980 \\\\\n",
       "\t many\\_one & all        & 62.545455 \\\\\n",
       "\t one\\_one  & all        & 30.920792 \\\\\n",
       "\\end{tabular}\n"
      ],
      "text/markdown": [
       "\n",
       "| condition | type_specific | diff |\n",
       "|---|---|---|\n",
       "| many_one  | CS        | 54.524242 |\n",
       "| one_one   | CS        | 64.910891 |\n",
       "| many_one  | GSold     | 46.772727 |\n",
       "| one_one   | GSold     | 24.610561 |\n",
       "| many_one  | GSnew     | 21.030303 |\n",
       "| one_one   | GSnew     |  9.866337 |\n",
       "| many_one  | abstract  | 43.116162 |\n",
       "| one_one   | abstract  | 22.801980 |\n",
       "| many_one  | all       | 62.545455 |\n",
       "| one_one   | all       | 30.920792 |\n",
       "\n"
      ],
      "text/plain": [
       "   condition type_specific diff     \n",
       "1  many_one  CS            54.524242\n",
       "2  one_one   CS            64.910891\n",
       "3  many_one  GSold         46.772727\n",
       "4  one_one   GSold         24.610561\n",
       "5  many_one  GSnew         21.030303\n",
       "6  one_one   GSnew          9.866337\n",
       "7  many_one  abstract      43.116162\n",
       "8  one_one   abstract      22.801980\n",
       "9  many_one  all           62.545455\n",
       "10 one_one   all           30.920792"
      ]
     },
     "metadata": {},
     "output_type": "display_data"
    },
    {
     "data": {
      "text/html": [
       "<table>\n",
       "<thead><tr><th scope=col>condition</th><th scope=col>diff</th></tr></thead>\n",
       "<tbody>\n",
       "\t<tr><td>many_one</td><td>45.59778</td></tr>\n",
       "\t<tr><td>one_one </td><td>30.62211</td></tr>\n",
       "</tbody>\n",
       "</table>\n"
      ],
      "text/latex": [
       "\\begin{tabular}{r|ll}\n",
       " condition & diff\\\\\n",
       "\\hline\n",
       "\t many\\_one & 45.59778  \\\\\n",
       "\t one\\_one  & 30.62211  \\\\\n",
       "\\end{tabular}\n"
      ],
      "text/markdown": [
       "\n",
       "| condition | diff |\n",
       "|---|---|\n",
       "| many_one | 45.59778 |\n",
       "| one_one  | 30.62211 |\n",
       "\n"
      ],
      "text/plain": [
       "  condition diff    \n",
       "1 many_one  45.59778\n",
       "2 one_one   30.62211"
      ]
     },
     "metadata": {},
     "output_type": "display_data"
    },
    {
     "data": {
      "text/html": [
       "<table>\n",
       "<thead><tr><th scope=col>type_specific</th><th scope=col>diff</th></tr></thead>\n",
       "<tbody>\n",
       "\t<tr><td>CS      </td><td>59.76950</td></tr>\n",
       "\t<tr><td>GSold   </td><td>35.58083</td></tr>\n",
       "\t<tr><td>GSnew   </td><td>15.39250</td></tr>\n",
       "\t<tr><td>abstract</td><td>32.85750</td></tr>\n",
       "\t<tr><td>all     </td><td>46.57500</td></tr>\n",
       "</tbody>\n",
       "</table>\n"
      ],
      "text/latex": [
       "\\begin{tabular}{r|ll}\n",
       " type\\_specific & diff\\\\\n",
       "\\hline\n",
       "\t CS       & 59.76950\\\\\n",
       "\t GSold    & 35.58083\\\\\n",
       "\t GSnew    & 15.39250\\\\\n",
       "\t abstract & 32.85750\\\\\n",
       "\t all      & 46.57500\\\\\n",
       "\\end{tabular}\n"
      ],
      "text/markdown": [
       "\n",
       "| type_specific | diff |\n",
       "|---|---|\n",
       "| CS       | 59.76950 |\n",
       "| GSold    | 35.58083 |\n",
       "| GSnew    | 15.39250 |\n",
       "| abstract | 32.85750 |\n",
       "| all      | 46.57500 |\n",
       "\n"
      ],
      "text/plain": [
       "  type_specific diff    \n",
       "1 CS            59.76950\n",
       "2 GSold         35.58083\n",
       "3 GSnew         15.39250\n",
       "4 abstract      32.85750\n",
       "5 all           46.57500"
      ]
     },
     "metadata": {},
     "output_type": "display_data"
    }
   ],
   "source": [
    "#interaction effect & main effects\n",
    "aggregate(diff ~ condition + type_specific, dataDirect, mean)\n",
    "aggregate(diff ~ condition, dataDirect, mean)\n",
    "aggregate(diff ~ type_specific, dataDirect, mean)"
   ]
  },
  {
   "cell_type": "code",
   "execution_count": 37,
   "metadata": {},
   "outputs": [],
   "source": [
    "#difference CS\n",
    "#n.s.\n",
    "type1 <- lm(diff ~ condition, dataDirect[dataDirect$type_specific == \"CS\",] )\n",
    "#summary(type1)\n",
    "#anova(type1)"
   ]
  },
  {
   "cell_type": "code",
   "execution_count": 38,
   "metadata": {},
   "outputs": [],
   "source": [
    "#difference GSold\n",
    "#s.\n",
    "type2 <- lm(diff ~ condition, dataDirect[dataDirect$type_specific == \"GSold\",] )\n",
    "#summary(type1)\n",
    "#anova(type2)"
   ]
  },
  {
   "cell_type": "code",
   "execution_count": 39,
   "metadata": {},
   "outputs": [],
   "source": [
    "#difference GSnew\n",
    "#s.\n",
    "type3 <- lm(diff ~ condition, dataDirect[dataDirect$type_specific == \"GSnew\",] )\n",
    "#summary(type1)\n",
    "#anova(type3)"
   ]
  },
  {
   "cell_type": "code",
   "execution_count": 40,
   "metadata": {},
   "outputs": [],
   "source": [
    "#difference abstract\n",
    "#s.\n",
    "type4 <- lm(diff ~ condition, dataDirect[dataDirect$type_specific == \"abstract\",] )\n",
    "#summary(type1)\n",
    "#anova(type4)"
   ]
  },
  {
   "cell_type": "code",
   "execution_count": 41,
   "metadata": {},
   "outputs": [],
   "source": [
    "#difference all\n",
    "#s.\n",
    "type5 <- lm(diff ~ condition, dataDirect[dataDirect$type_specific == \"all\",] )\n",
    "#summary(type1)\n",
    "# anova(type5)"
   ]
  },
  {
   "cell_type": "markdown",
   "metadata": {},
   "source": [
    "#### LM: variability x type (CS vs. GSold)"
   ]
  },
  {
   "cell_type": "code",
   "execution_count": null,
   "metadata": {},
   "outputs": [],
   "source": [
    "lmDiff1 <- lm(diff ~ condition*type, dataDirect[dataDirect$type_specific == \"CS\" | dataDirect$type_specific == \"GSold\",])\n",
    "#summary(lmDiff1)\n",
    "#plot(lmDiff1)"
   ]
  },
  {
   "cell_type": "markdown",
   "metadata": {},
   "source": [
    "#### LM: variability x type_specific"
   ]
  },
  {
   "cell_type": "code",
   "execution_count": 36,
   "metadata": {},
   "outputs": [],
   "source": [
    "lmDiff2 <- lm(diff ~ condition*type_specific, dataDirect)\n",
    "#summary(lmDiff2)\n",
    "#plot(lmDiff2)"
   ]
  },
  {
   "cell_type": "markdown",
   "metadata": {},
   "source": [
    "#### ANOVA: Variability x type x Measure (direct first vs. indirect first)"
   ]
  },
  {
   "cell_type": "code",
   "execution_count": 43,
   "metadata": {},
   "outputs": [
    {
     "name": "stderr",
     "output_type": "stream",
     "text": [
      "Warning message:\n",
      "\"More than one observation per cell, aggregating the data using mean (i.e, fun_aggregate = mean)!\"Contrasts set to contr.sum for the following variables: condition, measure\n"
     ]
    },
    {
     "data": {
      "text/plain": [
       "\n",
       "Univariate Type III Repeated-Measures ANOVA Assuming Sphericity\n",
       "\n",
       "                                 Sum Sq num Df Error SS den Df  F value\n",
       "(Intercept)                     1454682      1  1566383    196 182.0231\n",
       "condition                         54036      1  1566383    196   6.7614\n",
       "measure                            3611      1  1566383    196   0.4519\n",
       "condition:measure                   298      1  1566383    196   0.0373\n",
       "type_specific                    218195      4   845783    784  50.5642\n",
       "condition:type_specific           51844      4   845783    784  12.0141\n",
       "measure:type_specific              1293      4   845783    784   0.2997\n",
       "condition:measure:type_specific    7253      4   845783    784   1.6808\n",
       "                                   Pr(>F)    \n",
       "(Intercept)                     < 2.2e-16 ***\n",
       "condition                         0.01002 *  \n",
       "measure                           0.50223    \n",
       "condition:measure                 0.84706    \n",
       "type_specific                   < 2.2e-16 ***\n",
       "condition:type_specific         1.761e-09 ***\n",
       "measure:type_specific             0.87818    \n",
       "condition:measure:type_specific   0.15243    \n",
       "---\n",
       "Signif. codes:  0 '***' 0.001 '**' 0.01 '*' 0.05 '.' 0.1 ' ' 1\n",
       "\n",
       "\n",
       "Mauchly Tests for Sphericity\n",
       "\n",
       "                                Test statistic    p-value\n",
       "type_specific                          0.82778 2.9233e-05\n",
       "condition:type_specific                0.82778 2.9233e-05\n",
       "measure:type_specific                  0.82778 2.9233e-05\n",
       "condition:measure:type_specific        0.82778 2.9233e-05\n",
       "\n",
       "\n",
       "Greenhouse-Geisser and Huynh-Feldt Corrections\n",
       " for Departure from Sphericity\n",
       "\n",
       "                                 GG eps Pr(>F[GG])    \n",
       "type_specific                   0.92096  < 2.2e-16 ***\n",
       "condition:type_specific         0.92096  6.691e-09 ***\n",
       "measure:type_specific           0.92096     0.8639    \n",
       "condition:measure:type_specific 0.92096     0.1578    \n",
       "---\n",
       "Signif. codes:  0 '***' 0.001 '**' 0.01 '*' 0.05 '.' 0.1 ' ' 1\n",
       "\n",
       "                                   HF eps   Pr(>F[HF])\n",
       "type_specific                   0.9407938 8.357641e-36\n",
       "condition:type_specific         0.9407938 4.785279e-09\n",
       "measure:type_specific           0.9407938 8.676734e-01\n",
       "condition:measure:type_specific 0.9407938 1.564661e-01"
      ]
     },
     "metadata": {},
     "output_type": "display_data"
    }
   ],
   "source": [
    "aov_specific3 <- aov_car(diff ~ condition*type_specific*measure + Error(subject/type_specific), dataDirect, anova_table = list(\"pes\"))\n",
    "#aov_specific3\n",
    "summary(aov_specific3)"
   ]
  },
  {
   "cell_type": "code",
   "execution_count": null,
   "metadata": {},
   "outputs": [],
   "source": [
    "lmMeas1 <- lm(diff ~ condition*type*measure, dataDirect[dataDirect$type_specific == \"CS\" | dataDirect$type_specific == \"GSold\",])\n",
    "#summary(lmMeas1)"
   ]
  },
  {
   "cell_type": "markdown",
   "metadata": {},
   "source": [
    "### Additional Plots direct measure"
   ]
  },
  {
   "cell_type": "markdown",
   "metadata": {},
   "source": [
    "#### Boxplot: Positive pairings"
   ]
  },
  {
   "cell_type": "code",
   "execution_count": 44,
   "metadata": {},
   "outputs": [],
   "source": [
    "positiveDirect <- ggplot(direct[direct$val == \"pos\",], aes (x = type_specific, y = response, fill = condition)) +\n",
    "  stat_boxplot(geom = \"errorbar\") +\n",
    "  geom_boxplot(show.legend = TRUE) +\n",
    "  ggtitle(\"Positive Pairings\") + \n",
    "  theme(plot.title = element_text (hjust = 0.5, face = \"bold\", size = 12)) +\n",
    "  scale_fill_brewer(palette = \"Blues\") \n",
    "#positiveDirect"
   ]
  },
  {
   "cell_type": "markdown",
   "metadata": {},
   "source": [
    "#### Boxplot: Negative pairings"
   ]
  },
  {
   "cell_type": "code",
   "execution_count": 45,
   "metadata": {},
   "outputs": [],
   "source": [
    "negativeDirect <- ggplot(dataDirect[dataDirect$val == \"neg\",], aes (x = type_specific, y = response, fill = condition)) +\n",
    "  stat_boxplot(geom = \"errorbar\") +\n",
    "  geom_boxplot(show.legend = TRUE) +\n",
    "  ggtitle(\"Negative Pairings\") + \n",
    "  theme(plot.title = element_text (hjust = 0.5, face = \"bold\", size = 12)) +\n",
    "  scale_fill_brewer(palette = \"Blues\") \n",
    "#negativeDirect\n"
   ]
  },
  {
   "cell_type": "markdown",
   "metadata": {},
   "source": [
    "#### Barplot: Variability x Type x Measure (direct first vs. indirect first\")"
   ]
  },
  {
   "cell_type": "code",
   "execution_count": 46,
   "metadata": {},
   "outputs": [
    {
     "data": {
      "image/png": "[encoded data removed]",
      "text/plain": [
       "plot without title"
      ]
     },
     "metadata": {},
     "output_type": "display_data"
    }
   ],
   "source": [
    "barplotMeasure <- aggregate(diff ~ type_specific + condition + measure, dataDirect[dataDirect$val == \"pos\",], mean)\n",
    "barplotMeasure$se <- aggregate(diff ~ type_specific + condition + measure, dataDirect[dataDirect$val == \"pos\",], se)[[4]]\n",
    "\n",
    "plotMeasure <- ggplot(barplotMeasure, aes (x = type_specific, y = diff, fill = condition)) +\n",
    "  facet_grid(. ~ measure) +\n",
    "  geom_bar(stat = 'identity', position = position_dodge(), show.legend = TRUE) +\n",
    "  geom_errorbar(aes(ymin= diff - se, ymax= diff + se), width=.2,\n",
    "                position=position_dodge(.9)) +\n",
    "  ggtitle(\"Differences\") + \n",
    "  theme(plot.title = element_text (hjust = 0.5, face = \"bold\", size = 12)) +\n",
    "  scale_fill_brewer(palette = \"Paired\") +\n",
    "  scale_y_continuous (name = \"Pos - Neg\", breaks = seq(-25, 125, 25), limits = c(-10, 100))\n",
    "plotMeasure"
   ]
  },
  {
   "cell_type": "markdown",
   "metadata": {},
   "source": [
    "#### Boxplot: Categories x Valence"
   ]
  },
  {
   "cell_type": "code",
   "execution_count": 47,
   "metadata": {},
   "outputs": [
    {
     "data": {
      "image/png": "[encoded data removed]",
      "text/plain": [
       "plot without title"
      ]
     },
     "metadata": {},
     "output_type": "display_data"
    }
   ],
   "source": [
    "categoryDirect <- aggregate(response ~ subject + condition_code + condition + measure_code + val + type + type_specific + category, direct, mean)\n",
    "categoryDirect$nr_obs <- aggregate(response ~ subject + condition_code + condition + measure_code + val + type + type_specific + category, direct, length)[[8]]\n",
    "\n",
    "categoryDirectPlot <- ggplot(categoryDirect, aes (x = category, y = response, fill = val)) +\n",
    "  stat_boxplot(geom = \"errorbar\") +\n",
    "  geom_boxplot(show.legend = TRUE) +\n",
    "  ggtitle(\"Categories\") + \n",
    "  theme(plot.title = element_text (hjust = 0.5, face = \"bold\", size = 12)) +\n",
    "  scale_fill_brewer(palette = \"Blues\") \n",
    "categoryDirectPlot"
   ]
  },
  {
   "cell_type": "markdown",
   "metadata": {},
   "source": [
    "#### Scatterplot: CSs x Valence"
   ]
  },
  {
   "cell_type": "code",
   "execution_count": null,
   "metadata": {},
   "outputs": [],
   "source": [
    "#category3/CS9.png especially positive"
   ]
  },
  {
   "cell_type": "code",
   "execution_count": 48,
   "metadata": {},
   "outputs": [
    {
     "data": {
      "text/plain": [
       "NULL"
      ]
     },
     "metadata": {},
     "output_type": "display_data"
    }
   ],
   "source": [
    "csSelectedDirect <- aggregate(response ~ cs_selected + val, dat, mean)\n",
    "csDirectPlot <- ggplot(csSelectedDirect, aes (x = cs_selected, y = response, col = val)) +\n",
    "  geom_point(show.legend = TRUE)\n",
    "  ggtitle(\"Single CSs\") + \n",
    "  theme(plot.title = element_text (hjust = 0.5, face = \"bold\", size = 12)) +\n",
    "  scale_fill_brewer(palette = \"Blues\") \n",
    "#csDirectPlot"
   ]
  },
  {
   "cell_type": "markdown",
   "metadata": {},
   "source": [
    "##  Indirect Measure"
   ]
  },
  {
   "cell_type": "markdown",
   "metadata": {},
   "source": [
    "indirect: 0 = unangenehm, 1 = angenehm"
   ]
  },
  {
   "cell_type": "markdown",
   "metadata": {},
   "source": [
    "### Data preparation & Extract relevant columns"
   ]
  },
  {
   "cell_type": "code",
   "execution_count": 49,
   "metadata": {},
   "outputs": [],
   "source": [
    "#extract relevant columns\n",
    "indirect <- dat[dat$task == \"indirect\",]\n",
    "indirect <- indirect[c('indirect', 'rt', 'subject', 'condition', 'condition_code', 'measure', 'measure_code', 'val', 'type', 'type_specific', 'category', 'cs_selected', 'target', 'nr_pres')]\n",
    "\n",
    "as_factor <- append(as_factor, \"target\")\n",
    "for (factor in as_factor){\n",
    "  indirect[, factor] <- as.factor(indirect[,factor])\n",
    "}"
   ]
  },
  {
   "cell_type": "code",
   "execution_count": 50,
   "metadata": {},
   "outputs": [
    {
     "name": "stdout",
     "output_type": "stream",
     "text": [
      "'data.frame':\t8921 obs. of  14 variables:\n",
      " $ rt            : num  68 76 18 5 10 25 13 110 44 53 ...\n",
      " $ subject       : Factor w/ 238 levels \"02a80kdxm7\",\"03rysffm8e\",..: 1 1 1 1 1 1 1 1 1 1 ...\n",
      " $ condition     : Factor w/ 2 levels \"many_one\",\"one_one\": 1 1 1 1 1 1 1 1 1 1 ...\n",
      " $ condition_code: Factor w/ 2 levels \"0\",\"1\": 1 1 1 1 1 1 1 1 1 1 ...\n",
      " $ measure       : Factor w/ 2 levels \"indirect_first\",..: 1 1 1 1 1 1 1 1 1 1 ...\n",
      " $ measure_code  : Factor w/ 2 levels \"0\",\"1\": 1 1 1 1 1 1 1 1 1 1 ...\n",
      " $ val           : Factor w/ 3 levels \"\",\"neg\",\"pos\": 3 3 3 3 3 2 2 3 3 2 ...\n",
      " $ type          : Factor w/ 4 levels \"\",\"All\",\"CS\",..: 3 3 3 3 4 3 3 3 3 4 ...\n",
      " $ type_specific : Factor w/ 6 levels \"\",\"abstract\",..: 4 4 4 4 6 4 4 4 4 6 ...\n",
      " $ category      : Factor w/ 4 levels \"1\",\"2\",\"3\",\"4\": 3 4 4 3 3 2 1 4 4 2 ...\n",
      " $ cs_selected   : Factor w/ 61 levels \"\",\"1/CS1\",\"1/CS10\",..: 35 47 51 41 34 17 8 56 53 24 ...\n",
      " $ target        : Factor w/ 49 levels \"\",\"1\",\"10\",\"11\",..: 41 32 17 23 16 10 38 43 31 4 ...\n",
      " $ nr_pres       : num  0 1 2 3 4 5 6 7 8 9 ...\n",
      " $ response      : num  0 1 0 1 1 0 1 1 1 1 ...\n"
     ]
    }
   ],
   "source": [
    "indirect$response <- as.numeric(indirect$indirect)\n",
    "indirect$indirect <- NULL\n",
    "indirect$nr_pres <- as.numeric(indirect$nr_pres)\n",
    "indirect$rt <- as.numeric(indirect$rt)\n",
    "str(indirect)"
   ]
  },
  {
   "cell_type": "code",
   "execution_count": 51,
   "metadata": {},
   "outputs": [],
   "source": [
    "indirect$type_specific <- factor(indirect$type_specific, levels = c('CS', 'GSold', 'GSnew', 'abstract'))"
   ]
  },
  {
   "cell_type": "code",
   "execution_count": 232,
   "metadata": {},
   "outputs": [],
   "source": [
    "#export files\n",
    "#setwd(\"\\\\\\\\sn00.zdv.uni-tuebingen.de/siskr01/Documents/Github/Exp1a_data_analysis/CSCond_analysis/data\")\n",
    "setwd(\"C:/Users/reich/Documents/GitHub/CSCond_analysis\")\n",
    "write.csv2(indirect, file = 'indirect.csv')"
   ]
  },
  {
   "cell_type": "markdown",
   "metadata": {},
   "source": [
    "#### (1) Proportion of \"angenehm\" of all answers of a cell"
   ]
  },
  {
   "cell_type": "code",
   "execution_count": 52,
   "metadata": {},
   "outputs": [
    {
     "data": {
      "text/html": [
       "<table>\n",
       "<thead><tr><th scope=col>subject</th><th scope=col>condition_code</th><th scope=col>condition</th><th scope=col>measure</th><th scope=col>val</th><th scope=col>type</th><th scope=col>type_specific</th><th scope=col>response</th><th scope=col>nr_val</th><th scope=col>prob</th></tr></thead>\n",
       "<tbody>\n",
       "\t<tr><td>02a80kdxm7    </td><td>0             </td><td>many_one      </td><td>indirect_first</td><td>neg           </td><td>CS            </td><td>CS            </td><td>7             </td><td>10            </td><td>0.7           </td></tr>\n",
       "\t<tr><td>03rysffm8e    </td><td>0             </td><td>many_one      </td><td>indirect_first</td><td>neg           </td><td>CS            </td><td>CS            </td><td>3             </td><td>10            </td><td>0.3           </td></tr>\n",
       "\t<tr><td>0m0jrs2srj    </td><td>0             </td><td>many_one      </td><td>indirect_first</td><td>neg           </td><td>CS            </td><td>CS            </td><td>5             </td><td>10            </td><td>0.5           </td></tr>\n",
       "\t<tr><td>12gexjlo94    </td><td>0             </td><td>many_one      </td><td>indirect_first</td><td>neg           </td><td>CS            </td><td>CS            </td><td>8             </td><td>10            </td><td>0.8           </td></tr>\n",
       "\t<tr><td>26btee9n2n    </td><td>0             </td><td>many_one      </td><td>indirect_first</td><td>neg           </td><td>CS            </td><td>CS            </td><td>7             </td><td>10            </td><td>0.7           </td></tr>\n",
       "\t<tr><td>2aj9uo7pfl    </td><td>0             </td><td>many_one      </td><td>indirect_first</td><td>neg           </td><td>CS            </td><td>CS            </td><td>2             </td><td>10            </td><td>0.2           </td></tr>\n",
       "</tbody>\n",
       "</table>\n"
      ],
      "text/latex": [
       "\\begin{tabular}{r|llllllllll}\n",
       " subject & condition\\_code & condition & measure & val & type & type\\_specific & response & nr\\_val & prob\\\\\n",
       "\\hline\n",
       "\t 02a80kdxm7       & 0                & many\\_one       & indirect\\_first & neg              & CS               & CS               & 7                & 10               & 0.7             \\\\\n",
       "\t 03rysffm8e       & 0                & many\\_one       & indirect\\_first & neg              & CS               & CS               & 3                & 10               & 0.3             \\\\\n",
       "\t 0m0jrs2srj       & 0                & many\\_one       & indirect\\_first & neg              & CS               & CS               & 5                & 10               & 0.5             \\\\\n",
       "\t 12gexjlo94       & 0                & many\\_one       & indirect\\_first & neg              & CS               & CS               & 8                & 10               & 0.8             \\\\\n",
       "\t 26btee9n2n       & 0                & many\\_one       & indirect\\_first & neg              & CS               & CS               & 7                & 10               & 0.7             \\\\\n",
       "\t 2aj9uo7pfl       & 0                & many\\_one       & indirect\\_first & neg              & CS               & CS               & 2                & 10               & 0.2             \\\\\n",
       "\\end{tabular}\n"
      ],
      "text/markdown": [
       "\n",
       "| subject | condition_code | condition | measure | val | type | type_specific | response | nr_val | prob |\n",
       "|---|---|---|---|---|---|---|---|---|---|\n",
       "| 02a80kdxm7     | 0              | many_one       | indirect_first | neg            | CS             | CS             | 7              | 10             | 0.7            |\n",
       "| 03rysffm8e     | 0              | many_one       | indirect_first | neg            | CS             | CS             | 3              | 10             | 0.3            |\n",
       "| 0m0jrs2srj     | 0              | many_one       | indirect_first | neg            | CS             | CS             | 5              | 10             | 0.5            |\n",
       "| 12gexjlo94     | 0              | many_one       | indirect_first | neg            | CS             | CS             | 8              | 10             | 0.8            |\n",
       "| 26btee9n2n     | 0              | many_one       | indirect_first | neg            | CS             | CS             | 7              | 10             | 0.7            |\n",
       "| 2aj9uo7pfl     | 0              | many_one       | indirect_first | neg            | CS             | CS             | 2              | 10             | 0.2            |\n",
       "\n"
      ],
      "text/plain": [
       "  subject    condition_code condition measure        val type type_specific\n",
       "1 02a80kdxm7 0              many_one  indirect_first neg CS   CS           \n",
       "2 03rysffm8e 0              many_one  indirect_first neg CS   CS           \n",
       "3 0m0jrs2srj 0              many_one  indirect_first neg CS   CS           \n",
       "4 12gexjlo94 0              many_one  indirect_first neg CS   CS           \n",
       "5 26btee9n2n 0              many_one  indirect_first neg CS   CS           \n",
       "6 2aj9uo7pfl 0              many_one  indirect_first neg CS   CS           \n",
       "  response nr_val prob\n",
       "1 7        10     0.7 \n",
       "2 3        10     0.3 \n",
       "3 5        10     0.5 \n",
       "4 8        10     0.8 \n",
       "5 7        10     0.7 \n",
       "6 2        10     0.2 "
      ]
     },
     "metadata": {},
     "output_type": "display_data"
    }
   ],
   "source": [
    "#generate variabile prob\n",
    "dataIndirect <- aggregate(response ~ subject + condition_code + condition + measure + val + type + type_specific, indirect, sum )\n",
    "dataIndirect$nr_val <- aggregate(response ~ subject + condition_code + condition + measure + val + type + type_specific, indirect, length)[[8]]\n",
    "dataIndirect$prob <- (dataIndirect$response/dataIndirect$nr_val) #prob: proportion \"angenehm\" of positive / negative stimuli in the respective condition\n",
    "head(dataIndirect)"
   ]
  },
  {
   "cell_type": "markdown",
   "metadata": {},
   "source": [
    "#### Differences between probabilities of positive and negative CSs"
   ]
  },
  {
   "cell_type": "code",
   "execution_count": 53,
   "metadata": {},
   "outputs": [],
   "source": [
    "#generate variable diff\n",
    "for (subj in unique(dataIndirect$subject)){\n",
    "  for (name in unique(dataIndirect$type_specific)){\n",
    "    temp <- dataIndirect[dataIndirect$subject == subj & dataIndirect$type_specific == name,];\n",
    "    dataIndirect$diff[dataIndirect$subject == subj & dataIndirect$type_specific == name] <- temp$prob[temp$val == \"pos\"] - temp$prob[temp$val == \"neg\"]\n",
    "  }\n",
    "}"
   ]
  },
  {
   "cell_type": "markdown",
   "metadata": {},
   "source": [
    "#### (2) Dichotom variable \"angenehm\" and \"unangenehm\" for every subject and condition"
   ]
  },
  {
   "cell_type": "code",
   "execution_count": 54,
   "metadata": {},
   "outputs": [
    {
     "data": {
      "text/html": [
       "<table>\n",
       "<thead><tr><th scope=col>subject</th><th scope=col>condition_code</th><th scope=col>condition</th><th scope=col>measure</th><th scope=col>val</th><th scope=col>type</th><th scope=col>type_specific</th><th scope=col>response</th><th scope=col>nr_val</th><th scope=col>prob</th><th scope=col>diff</th><th scope=col>an</th><th scope=col>un</th></tr></thead>\n",
       "<tbody>\n",
       "\t<tr><td>02a80kdxm7    </td><td>0             </td><td>many_one      </td><td>indirect_first</td><td>neg           </td><td>CS            </td><td>CS            </td><td>7             </td><td>10            </td><td>0.7           </td><td> 0.0          </td><td>7             </td><td>3             </td></tr>\n",
       "\t<tr><td>03rysffm8e    </td><td>0             </td><td>many_one      </td><td>indirect_first</td><td>neg           </td><td>CS            </td><td>CS            </td><td>3             </td><td>10            </td><td>0.3           </td><td> 0.2          </td><td>3             </td><td>7             </td></tr>\n",
       "\t<tr><td>0m0jrs2srj    </td><td>0             </td><td>many_one      </td><td>indirect_first</td><td>neg           </td><td>CS            </td><td>CS            </td><td>5             </td><td>10            </td><td>0.5           </td><td> 0.0          </td><td>5             </td><td>5             </td></tr>\n",
       "\t<tr><td>12gexjlo94    </td><td>0             </td><td>many_one      </td><td>indirect_first</td><td>neg           </td><td>CS            </td><td>CS            </td><td>8             </td><td>10            </td><td>0.8           </td><td>-0.5          </td><td>8             </td><td>2             </td></tr>\n",
       "\t<tr><td>26btee9n2n    </td><td>0             </td><td>many_one      </td><td>indirect_first</td><td>neg           </td><td>CS            </td><td>CS            </td><td>7             </td><td>10            </td><td>0.7           </td><td> 0.0          </td><td>7             </td><td>3             </td></tr>\n",
       "\t<tr><td>2aj9uo7pfl    </td><td>0             </td><td>many_one      </td><td>indirect_first</td><td>neg           </td><td>CS            </td><td>CS            </td><td>2             </td><td>10            </td><td>0.2           </td><td> 0.6          </td><td>2             </td><td>8             </td></tr>\n",
       "</tbody>\n",
       "</table>\n"
      ],
      "text/latex": [
       "\\begin{tabular}{r|lllllllllllll}\n",
       " subject & condition\\_code & condition & measure & val & type & type\\_specific & response & nr\\_val & prob & diff & an & un\\\\\n",
       "\\hline\n",
       "\t 02a80kdxm7       & 0                & many\\_one       & indirect\\_first & neg              & CS               & CS               & 7                & 10               & 0.7              &  0.0             & 7                & 3               \\\\\n",
       "\t 03rysffm8e       & 0                & many\\_one       & indirect\\_first & neg              & CS               & CS               & 3                & 10               & 0.3              &  0.2             & 3                & 7               \\\\\n",
       "\t 0m0jrs2srj       & 0                & many\\_one       & indirect\\_first & neg              & CS               & CS               & 5                & 10               & 0.5              &  0.0             & 5                & 5               \\\\\n",
       "\t 12gexjlo94       & 0                & many\\_one       & indirect\\_first & neg              & CS               & CS               & 8                & 10               & 0.8              & -0.5             & 8                & 2               \\\\\n",
       "\t 26btee9n2n       & 0                & many\\_one       & indirect\\_first & neg              & CS               & CS               & 7                & 10               & 0.7              &  0.0             & 7                & 3               \\\\\n",
       "\t 2aj9uo7pfl       & 0                & many\\_one       & indirect\\_first & neg              & CS               & CS               & 2                & 10               & 0.2              &  0.6             & 2                & 8               \\\\\n",
       "\\end{tabular}\n"
      ],
      "text/markdown": [
       "\n",
       "| subject | condition_code | condition | measure | val | type | type_specific | response | nr_val | prob | diff | an | un |\n",
       "|---|---|---|---|---|---|---|---|---|---|---|---|---|\n",
       "| 02a80kdxm7     | 0              | many_one       | indirect_first | neg            | CS             | CS             | 7              | 10             | 0.7            |  0.0           | 7              | 3              |\n",
       "| 03rysffm8e     | 0              | many_one       | indirect_first | neg            | CS             | CS             | 3              | 10             | 0.3            |  0.2           | 3              | 7              |\n",
       "| 0m0jrs2srj     | 0              | many_one       | indirect_first | neg            | CS             | CS             | 5              | 10             | 0.5            |  0.0           | 5              | 5              |\n",
       "| 12gexjlo94     | 0              | many_one       | indirect_first | neg            | CS             | CS             | 8              | 10             | 0.8            | -0.5           | 8              | 2              |\n",
       "| 26btee9n2n     | 0              | many_one       | indirect_first | neg            | CS             | CS             | 7              | 10             | 0.7            |  0.0           | 7              | 3              |\n",
       "| 2aj9uo7pfl     | 0              | many_one       | indirect_first | neg            | CS             | CS             | 2              | 10             | 0.2            |  0.6           | 2              | 8              |\n",
       "\n"
      ],
      "text/plain": [
       "  subject    condition_code condition measure        val type type_specific\n",
       "1 02a80kdxm7 0              many_one  indirect_first neg CS   CS           \n",
       "2 03rysffm8e 0              many_one  indirect_first neg CS   CS           \n",
       "3 0m0jrs2srj 0              many_one  indirect_first neg CS   CS           \n",
       "4 12gexjlo94 0              many_one  indirect_first neg CS   CS           \n",
       "5 26btee9n2n 0              many_one  indirect_first neg CS   CS           \n",
       "6 2aj9uo7pfl 0              many_one  indirect_first neg CS   CS           \n",
       "  response nr_val prob diff an un\n",
       "1 7        10     0.7   0.0 7  3 \n",
       "2 3        10     0.3   0.2 3  7 \n",
       "3 5        10     0.5   0.0 5  5 \n",
       "4 8        10     0.8  -0.5 8  2 \n",
       "5 7        10     0.7   0.0 7  3 \n",
       "6 2        10     0.2   0.6 2  8 "
      ]
     },
     "metadata": {},
     "output_type": "display_data"
    }
   ],
   "source": [
    "dataIndirect$an <- dataIndirect$response #column for \"unangenehm\" answer\n",
    "dataIndirect$un <- dataIndirect$nr_val - dataIndirect$response #column for \"angenehm\" answer\n",
    "head(dataIndirect)"
   ]
  },
  {
   "cell_type": "markdown",
   "metadata": {},
   "source": [
    "### Inference Statistics *(1) proportion \"angenehm\" of all answers*"
   ]
  },
  {
   "cell_type": "markdown",
   "metadata": {},
   "source": [
    "#### Barplot: Variability x Type_specific (on difference scores)"
   ]
  },
  {
   "cell_type": "code",
   "execution_count": 55,
   "metadata": {},
   "outputs": [
    {
     "data": {
      "image/png": "[encoded data removed]",
      "text/plain": [
       "plot without title"
      ]
     },
     "metadata": {},
     "output_type": "display_data"
    }
   ],
   "source": [
    "barplotDiffData <- aggregate(diff ~ condition + type_specific, dataIndirect, mean)\n",
    "barplotDiffData$se <- aggregate(diff ~ condition + type_specific, dataIndirect, se)[[3]]\n",
    "\n",
    "barplotDiff <- ggplot(barplotDiffData, aes (x = type_specific, y = diff, fill = condition)) +\n",
    "  geom_bar(stat = 'identity', position = position_dodge(), show.legend = TRUE) +\n",
    "  geom_errorbar(aes(ymin= diff - se, ymax= diff + se), width=.2,\n",
    "                position=position_dodge(.9)) +\n",
    "  ggtitle(\"Differences\") + \n",
    "  theme(plot.title = element_text (hjust = 0.5, face = \"bold\", size = 12)) +\n",
    "  scale_fill_brewer(palette = \"Paired\") +\n",
    "  scale_y_continuous (name = \"[Prob. 'angenehm' bei Pos] - [Prob. 'angenehm' bei Neg]\", breaks = seq(-0.1, 0.3, 0.1), limits = c(-0.1, 0.3))\n",
    "barplotDiff"
   ]
  },
  {
   "cell_type": "markdown",
   "metadata": {},
   "source": [
    "#### Barplot: Variability x type_specific x valence (on probabilities)"
   ]
  },
  {
   "cell_type": "code",
   "execution_count": 56,
   "metadata": {},
   "outputs": [
    {
     "data": {
      "image/png": "[encoded data removed]",
      "text/plain": [
       "plot without title"
      ]
     },
     "metadata": {},
     "output_type": "display_data"
    }
   ],
   "source": [
    "barplotDiffData <- aggregate(prob ~ val + type_specific + condition, dataIndirect, mean)\n",
    "barplotDiffData$se <- aggregate(prob ~ val + type_specific + condition, dataIndirect, se)[[4]]\n",
    "\n",
    "barplotPosNeg <- ggplot(barplotDiffData, aes (x = type_specific, y = prob, fill = condition)) +\n",
    "  facet_grid(. ~ val)+\n",
    "  geom_bar(stat = 'identity', position = position_dodge(), show.legend = TRUE) +\n",
    "  geom_errorbar(aes(ymin= prob - se, ymax= prob + se), width=.2,\n",
    "                position=position_dodge(.9)) +\n",
    "    geom_hline(yintercept = 0.5, color = \"red\") +\n",
    "  ggtitle(\"Positive and Negative Valence\") + \n",
    "  theme(plot.title = element_text (hjust = 0.5, face = \"bold\", size = 12)) +\n",
    "  scale_fill_brewer(palette = \"Paired\") +\n",
    "  scale_y_continuous(name = \"Prob. of 'Angenehm'\")\n",
    "barplotPosNeg\n"
   ]
  },
  {
   "cell_type": "markdown",
   "metadata": {},
   "source": [
    "#### Boxplot: Variability * Type_specific * Valence (on probabilities)\n"
   ]
  },
  {
   "cell_type": "code",
   "execution_count": 57,
   "metadata": {},
   "outputs": [
    {
     "data": {
      "image/png": "[encoded data removed]",
      "text/plain": [
       "plot without title"
      ]
     },
     "metadata": {},
     "output_type": "display_data"
    }
   ],
   "source": [
    "posnegIndirectData <- aggregate(prob ~ val + type_specific + condition, dataIndirect, mean)\n",
    "posnegIndirect <- ggplot(dataIndirect, aes (x = type_specific, y = prob, fill = condition)) +\n",
    "  facet_grid(. ~ val) +\n",
    "  stat_boxplot(geom = \"errorbar\") +\n",
    "  geom_boxplot(show.legend = TRUE) +\n",
    "  ggtitle(\"Positive and Negative Pairings\") + \n",
    "  theme(plot.title = element_text (hjust = 0.5, face = \"bold\", size = 12)) +\n",
    "  scale_fill_brewer(palette = \"Blues\") +\n",
    "  scale_y_continuous(name = \"Prob. of 'Angenehm'\")\n",
    "posnegIndirect\n"
   ]
  },
  {
   "cell_type": "markdown",
   "metadata": {},
   "source": [
    "#### ANOVA: variability x type (CS vs. GSold)"
   ]
  },
  {
   "cell_type": "code",
   "execution_count": null,
   "metadata": {},
   "outputs": [],
   "source": [
    "indirect.type <- aggregate(diff ~ condition + type + subject, dataIndirect[dataIndirect$type_specific == \"CS\" | dataIndirect$type_specific == \"GSold\",], mean)\n",
    "aov_specific <- aov_car(diff ~ condition*type + Error(subject/type), indirect.type, anova_table = list(\"pes\"))\n",
    "#aov_specific\n",
    "#summary(aov_specific)"
   ]
  },
  {
   "cell_type": "markdown",
   "metadata": {},
   "source": [
    "#### ANOVA: variability x type_specific "
   ]
  },
  {
   "cell_type": "code",
   "execution_count": 58,
   "metadata": {},
   "outputs": [
    {
     "name": "stderr",
     "output_type": "stream",
     "text": [
      "Contrasts set to contr.sum for the following variables: condition\n"
     ]
    },
    {
     "data": {
      "text/plain": [
       "Anova Table (Type 3 tests)\n",
       "\n",
       "Response: diff\n",
       "                   Effect           df  MSE       F  pes p.value\n",
       "1               condition       1, 198 0.29  3.71 + .018    .055\n",
       "2           type_specific 2.88, 570.23 0.13 4.54 ** .022    .004\n",
       "3 condition:type_specific 2.88, 570.23 0.13    1.21 .006    .304\n",
       "---\n",
       "Signif. codes:  0 '***' 0.001 '**' 0.01 '*' 0.05 '+' 0.1 ' ' 1\n",
       "\n",
       "Sphericity correction method: GG "
      ]
     },
     "metadata": {},
     "output_type": "display_data"
    },
    {
     "data": {
      "text/plain": [
       "\n",
       "Univariate Type III Repeated-Measures ANOVA Assuming Sphericity\n",
       "\n",
       "                         Sum Sq num Df Error SS den Df F value    Pr(>F)    \n",
       "(Intercept)             16.4325      1   58.086    198 56.0138 2.307e-12 ***\n",
       "condition                1.0887      1   58.086    198  3.7110  0.055486 .  \n",
       "type_specific            1.6486      3   71.823    594  4.5448  0.003686 ** \n",
       "condition:type_specific  0.4401      3   71.823    594  1.2132  0.304095    \n",
       "---\n",
       "Signif. codes:  0 '***' 0.001 '**' 0.01 '*' 0.05 '.' 0.1 ' ' 1\n",
       "\n",
       "\n",
       "Mauchly Tests for Sphericity\n",
       "\n",
       "                        Test statistic  p-value\n",
       "type_specific                  0.93941 0.030945\n",
       "condition:type_specific        0.93941 0.030945\n",
       "\n",
       "\n",
       "Greenhouse-Geisser and Huynh-Feldt Corrections\n",
       " for Departure from Sphericity\n",
       "\n",
       "                         GG eps Pr(>F[GG])   \n",
       "type_specific           0.95999   0.004207 **\n",
       "condition:type_specific 0.95999   0.303851   \n",
       "---\n",
       "Signif. codes:  0 '***' 0.001 '**' 0.01 '*' 0.05 '.' 0.1 ' ' 1\n",
       "\n",
       "                           HF eps  Pr(>F[HF])\n",
       "type_specific           0.9756577 0.003994457\n",
       "condition:type_specific 0.9756577 0.303956739"
      ]
     },
     "metadata": {},
     "output_type": "display_data"
    }
   ],
   "source": [
    "indirect.type_specific <- aggregate(diff ~ condition + type_specific + subject, dataIndirect, mean)\n",
    "aov_specific2 <- aov_car(diff ~ condition*type_specific + Error(subject/type_specific), indirect.type_specific, anova_table = list(\"pes\"))\n",
    "aov_specific2\n",
    "summary(aov_specific2)"
   ]
  },
  {
   "cell_type": "code",
   "execution_count": 59,
   "metadata": {},
   "outputs": [
    {
     "data": {
      "text/html": [
       "<table>\n",
       "<thead><tr><th scope=col>type_specific</th><th scope=col>diff</th></tr></thead>\n",
       "<tbody>\n",
       "\t<tr><td>CS        </td><td>0.20350000</td></tr>\n",
       "\t<tr><td>GSold     </td><td>0.14250000</td></tr>\n",
       "\t<tr><td>GSnew     </td><td>0.07583333</td></tr>\n",
       "\t<tr><td>abstract  </td><td>0.15000000</td></tr>\n",
       "</tbody>\n",
       "</table>\n"
      ],
      "text/latex": [
       "\\begin{tabular}{r|ll}\n",
       " type\\_specific & diff\\\\\n",
       "\\hline\n",
       "\t CS         & 0.20350000\\\\\n",
       "\t GSold      & 0.14250000\\\\\n",
       "\t GSnew      & 0.07583333\\\\\n",
       "\t abstract   & 0.15000000\\\\\n",
       "\\end{tabular}\n"
      ],
      "text/markdown": [
       "\n",
       "| type_specific | diff |\n",
       "|---|---|\n",
       "| CS         | 0.20350000 |\n",
       "| GSold      | 0.14250000 |\n",
       "| GSnew      | 0.07583333 |\n",
       "| abstract   | 0.15000000 |\n",
       "\n"
      ],
      "text/plain": [
       "  type_specific diff      \n",
       "1 CS            0.20350000\n",
       "2 GSold         0.14250000\n",
       "3 GSnew         0.07583333\n",
       "4 abstract      0.15000000"
      ]
     },
     "metadata": {},
     "output_type": "display_data"
    }
   ],
   "source": [
    "#main effect type_specific\n",
    "aggregate(diff ~ type_specific, dataIndirect, mean)"
   ]
  },
  {
   "cell_type": "markdown",
   "metadata": {},
   "source": [
    "#### LM: variability*type_specific"
   ]
  },
  {
   "cell_type": "code",
   "execution_count": null,
   "metadata": {},
   "outputs": [],
   "source": [
    "lm.type_specific <- lm(diff ~ type_specific*condition, dataIndirect)\n",
    "#summary(lm.type_specific)"
   ]
  },
  {
   "cell_type": "markdown",
   "metadata": {},
   "source": [
    "#### LMER: variability*type_specific + (1|subject)"
   ]
  },
  {
   "cell_type": "code",
   "execution_count": 289,
   "metadata": {},
   "outputs": [],
   "source": [
    "lm.type_specific2 <- lmer(diff ~ type_specific*condition + (1 | subject), dataIndirect)\n",
    "#summary(lm.type_specific)"
   ]
  },
  {
   "cell_type": "markdown",
   "metadata": {},
   "source": [
    "#### LMER: variability*type_specific + (type|subject)"
   ]
  },
  {
   "cell_type": "code",
   "execution_count": 60,
   "metadata": {},
   "outputs": [
    {
     "data": {
      "text/plain": [
       "Linear mixed model fit by REML. t-tests use Satterthwaite's method [\n",
       "lmerModLmerTest]\n",
       "Formula: diff ~ type_specific * condition + (type | subject)\n",
       "   Data: dataIndirect\n",
       "\n",
       "REML criterion at convergence: 1127.1\n",
       "\n",
       "Scaled residuals: \n",
       "    Min      1Q  Median      3Q     Max \n",
       "-3.3675 -0.4689  0.0229  0.5045  2.8275 \n",
       "\n",
       "Random effects:\n",
       " Groups   Name        Variance Std.Dev. Corr \n",
       " subject  (Intercept) 0.14724  0.3837        \n",
       "          typeGS      0.11911  0.3451   -0.76\n",
       " Residual             0.07767  0.2787        \n",
       "Number of obs: 1600, groups:  subject, 200\n",
       "\n",
       "Fixed effects:\n",
       "                                         Estimate Std. Error         df t value\n",
       "(Intercept)                              0.224242   0.043354 197.998400   5.172\n",
       "type_specificGSold                      -0.028956   0.044584 261.540676  -0.649\n",
       "type_specificGSnew                      -0.140067   0.044584 261.540676  -3.142\n",
       "type_specificabstract                   -0.007071   0.044584 261.540676  -0.159\n",
       "conditionone_one                        -0.041074   0.061008 197.998399  -0.673\n",
       "type_specificGSold:conditionone_one     -0.063453   0.062738 261.540674  -1.011\n",
       "type_specificGSnew:conditionone_one      0.024556   0.062738 261.540674   0.391\n",
       "type_specificabstract:conditionone_one  -0.091939   0.062738 261.540674  -1.465\n",
       "                                       Pr(>|t|)    \n",
       "(Intercept)                            5.64e-07 ***\n",
       "type_specificGSold                      0.51660    \n",
       "type_specificGSnew                      0.00187 ** \n",
       "type_specificabstract                   0.87411    \n",
       "conditionone_one                        0.50157    \n",
       "type_specificGSold:conditionone_one     0.31276    \n",
       "type_specificGSnew:conditionone_one     0.69582    \n",
       "type_specificabstract:conditionone_one  0.14400    \n",
       "---\n",
       "Signif. codes:  0 '***' 0.001 '**' 0.01 '*' 0.05 '.' 0.1 ' ' 1\n",
       "\n",
       "Correlation of Fixed Effects:\n",
       "               (Intr) typ_spcfcGSl typ_spcfcGSn typ_sp cndtn_ typ_spcfcGSl:_\n",
       "typ_spcfcGSl   -0.728                                                       \n",
       "typ_spcfcGSn   -0.728  0.803                                                \n",
       "typ_spcfcbs    -0.728  0.803        0.803                                   \n",
       "conditinn_n    -0.711  0.517        0.517        0.517                      \n",
       "typ_spcfcGSl:_  0.517 -0.711       -0.570       -0.570 -0.728               \n",
       "typ_spcfcGSn:_  0.517 -0.570       -0.711       -0.570 -0.728  0.803        \n",
       "typ_spcfc:_     0.517 -0.570       -0.570       -0.711 -0.728  0.803        \n",
       "               typ_spcfcGSn:_\n",
       "typ_spcfcGSl                 \n",
       "typ_spcfcGSn                 \n",
       "typ_spcfcbs                  \n",
       "conditinn_n                  \n",
       "typ_spcfcGSl:_               \n",
       "typ_spcfcGSn:_               \n",
       "typ_spcfc:_     0.803        "
      ]
     },
     "metadata": {},
     "output_type": "display_data"
    }
   ],
   "source": [
    "lm.type_specific3 <- lmer(diff ~ type_specific*condition + (type | subject), dataIndirect)\n",
    "summary(lm.type_specific3)"
   ]
  },
  {
   "cell_type": "code",
   "execution_count": 291,
   "metadata": {},
   "outputs": [
    {
     "name": "stderr",
     "output_type": "stream",
     "text": [
      "refitting model(s) with ML (instead of REML)\n"
     ]
    },
    {
     "data": {
      "text/html": [
       "<table>\n",
       "<thead><tr><th></th><th scope=col>npar</th><th scope=col>AIC</th><th scope=col>BIC</th><th scope=col>logLik</th><th scope=col>deviance</th><th scope=col>Chisq</th><th scope=col>Df</th><th scope=col>Pr(&gt;Chisq)</th></tr></thead>\n",
       "<tbody>\n",
       "\t<tr><th scope=row>lm.type_specific2</th><td>10          </td><td>1264.334    </td><td>1318.112    </td><td>-622.1672   </td><td>1244.334    </td><td>      NA    </td><td>NA          </td><td>          NA</td></tr>\n",
       "\t<tr><th scope=row>lm.type_specific3</th><td>12          </td><td>1109.358    </td><td>1173.891    </td><td>-542.6790   </td><td>1085.358    </td><td>158.9765    </td><td> 2          </td><td>3.010844e-35</td></tr>\n",
       "</tbody>\n",
       "</table>\n"
      ],
      "text/latex": [
       "\\begin{tabular}{r|llllllll}\n",
       "  & npar & AIC & BIC & logLik & deviance & Chisq & Df & Pr(>Chisq)\\\\\n",
       "\\hline\n",
       "\tlm.type\\_specific2 & 10           & 1264.334     & 1318.112     & -622.1672    & 1244.334     &       NA     & NA           &           NA\\\\\n",
       "\tlm.type\\_specific3 & 12           & 1109.358     & 1173.891     & -542.6790    & 1085.358     & 158.9765     &  2           & 3.010844e-35\\\\\n",
       "\\end{tabular}\n"
      ],
      "text/markdown": [
       "\n",
       "| <!--/--> | npar | AIC | BIC | logLik | deviance | Chisq | Df | Pr(>Chisq) |\n",
       "|---|---|---|---|---|---|---|---|---|\n",
       "| lm.type_specific2 | 10           | 1264.334     | 1318.112     | -622.1672    | 1244.334     |       NA     | NA           |           NA |\n",
       "| lm.type_specific3 | 12           | 1109.358     | 1173.891     | -542.6790    | 1085.358     | 158.9765     |  2           | 3.010844e-35 |\n",
       "\n"
      ],
      "text/plain": [
       "                  npar AIC      BIC      logLik    deviance Chisq    Df\n",
       "lm.type_specific2 10   1264.334 1318.112 -622.1672 1244.334       NA NA\n",
       "lm.type_specific3 12   1109.358 1173.891 -542.6790 1085.358 158.9765  2\n",
       "                  Pr(>Chisq)  \n",
       "lm.type_specific2           NA\n",
       "lm.type_specific3 3.010844e-35"
      ]
     },
     "metadata": {},
     "output_type": "display_data"
    }
   ],
   "source": [
    "anova(lm.type_specific2, lm.type_specific3)"
   ]
  },
  {
   "cell_type": "markdown",
   "metadata": {},
   "source": [
    "#### ANOVA: variability * type_specific * measure"
   ]
  },
  {
   "cell_type": "code",
   "execution_count": null,
   "metadata": {},
   "outputs": [],
   "source": [
    "indirect.measure <- aggregate(diff ~ condition + measure + type_specific + subject, dataIndirect, mean)\n",
    "aov_measure <- aov_car(diff ~ condition*type_specific*measure + Error(subject/type_specific), indirect.measure, anova_table = list(\"pes\"))\n",
    "#aov_measure\n",
    "#summary(aov_measure)"
   ]
  },
  {
   "cell_type": "markdown",
   "metadata": {},
   "source": [
    "#### LMER: type_specific * variability + (type_specific | target)"
   ]
  },
  {
   "cell_type": "code",
   "execution_count": 64,
   "metadata": {},
   "outputs": [
    {
     "data": {
      "text/html": [
       "<table>\n",
       "<thead><tr><th scope=col>target</th><th scope=col>val</th><th scope=col>condition</th><th scope=col>type_specific</th><th scope=col>response</th><th scope=col>nr_val</th><th scope=col>prob</th></tr></thead>\n",
       "<tbody>\n",
       "\t<tr><td>1        </td><td>neg      </td><td>many_one </td><td>CS       </td><td> 7       </td><td>15       </td><td>0.4666667</td></tr>\n",
       "\t<tr><td>10       </td><td>neg      </td><td>many_one </td><td>CS       </td><td>10       </td><td>24       </td><td>0.4166667</td></tr>\n",
       "\t<tr><td>11       </td><td>neg      </td><td>many_one </td><td>CS       </td><td> 6       </td><td>16       </td><td>0.3750000</td></tr>\n",
       "\t<tr><td>12       </td><td>neg      </td><td>many_one </td><td>CS       </td><td>10       </td><td>17       </td><td>0.5882353</td></tr>\n",
       "\t<tr><td>13       </td><td>neg      </td><td>many_one </td><td>CS       </td><td>13       </td><td>21       </td><td>0.6190476</td></tr>\n",
       "\t<tr><td>14       </td><td>neg      </td><td>many_one </td><td>CS       </td><td> 8       </td><td>16       </td><td>0.5000000</td></tr>\n",
       "</tbody>\n",
       "</table>\n"
      ],
      "text/latex": [
       "\\begin{tabular}{r|lllllll}\n",
       " target & val & condition & type\\_specific & response & nr\\_val & prob\\\\\n",
       "\\hline\n",
       "\t 1          & neg        & many\\_one & CS         &  7         & 15         & 0.4666667 \\\\\n",
       "\t 10         & neg        & many\\_one & CS         & 10         & 24         & 0.4166667 \\\\\n",
       "\t 11         & neg        & many\\_one & CS         &  6         & 16         & 0.3750000 \\\\\n",
       "\t 12         & neg        & many\\_one & CS         & 10         & 17         & 0.5882353 \\\\\n",
       "\t 13         & neg        & many\\_one & CS         & 13         & 21         & 0.6190476 \\\\\n",
       "\t 14         & neg        & many\\_one & CS         &  8         & 16         & 0.5000000 \\\\\n",
       "\\end{tabular}\n"
      ],
      "text/markdown": [
       "\n",
       "| target | val | condition | type_specific | response | nr_val | prob |\n",
       "|---|---|---|---|---|---|---|\n",
       "| 1         | neg       | many_one  | CS        |  7        | 15        | 0.4666667 |\n",
       "| 10        | neg       | many_one  | CS        | 10        | 24        | 0.4166667 |\n",
       "| 11        | neg       | many_one  | CS        |  6        | 16        | 0.3750000 |\n",
       "| 12        | neg       | many_one  | CS        | 10        | 17        | 0.5882353 |\n",
       "| 13        | neg       | many_one  | CS        | 13        | 21        | 0.6190476 |\n",
       "| 14        | neg       | many_one  | CS        |  8        | 16        | 0.5000000 |\n",
       "\n"
      ],
      "text/plain": [
       "  target val condition type_specific response nr_val prob     \n",
       "1 1      neg many_one  CS             7       15     0.4666667\n",
       "2 10     neg many_one  CS            10       24     0.4166667\n",
       "3 11     neg many_one  CS             6       16     0.3750000\n",
       "4 12     neg many_one  CS            10       17     0.5882353\n",
       "5 13     neg many_one  CS            13       21     0.6190476\n",
       "6 14     neg many_one  CS             8       16     0.5000000"
      ]
     },
     "metadata": {},
     "output_type": "display_data"
    },
    {
     "name": "stderr",
     "output_type": "stream",
     "text": [
      "Warning message in targetsIndirect$diff[targetsIndirect$target == target & targetsIndirect$type_specific == :\n",
      "\"Anzahl der zu ersetzenden Elemente ist kein Vielfaches der Ersetzungslänge\"Warning message in targetsIndirect$diff[targetsIndirect$target == target & targetsIndirect$type_specific == :\n",
      "\"Anzahl der zu ersetzenden Elemente ist kein Vielfaches der Ersetzungslänge\"Warning message in targetsIndirect$diff[targetsIndirect$target == target & targetsIndirect$type_specific == :\n",
      "\"Anzahl der zu ersetzenden Elemente ist kein Vielfaches der Ersetzungslänge\"Warning message in targetsIndirect$diff[targetsIndirect$target == target & targetsIndirect$type_specific == :\n",
      "\"Anzahl der zu ersetzenden Elemente ist kein Vielfaches der Ersetzungslänge\"Warning message in targetsIndirect$diff[targetsIndirect$target == target & targetsIndirect$type_specific == :\n",
      "\"Anzahl der zu ersetzenden Elemente ist kein Vielfaches der Ersetzungslänge\""
     ]
    }
   ],
   "source": [
    "targetsIndirect <- aggregate(response ~ target + val + condition + type_specific, indirect, sum)\n",
    "targetsIndirect$nr_val <- aggregate(response ~ target + val + condition + type_specific, indirect, length) [[5]]\n",
    "targetsIndirect$prob <- (targetsIndirect$response/targetsIndirect$nr_val)\n",
    "#targetsIndirect\n",
    "\n",
    "#generate variable diff\n",
    "#not all cells have data, yet!\n",
    "for (target in unique(targetsIndirect$target)){\n",
    "  for (name in unique(targetsIndirect$type_specific)){\n",
    "    temp <- targetsIndirect[targetsIndirect$target == target & targetsIndirect$type_specific == name,];\n",
    "    targetsIndirect$diff[targetsIndirect$target == target & targetsIndirect$type_specific == name] <- temp$prob[temp$val == \"pos\"] - temp$prob[temp$val == \"neg\"]\n",
    "  }\n",
    "}\n"
   ]
  },
  {
   "cell_type": "code",
   "execution_count": 65,
   "metadata": {},
   "outputs": [
    {
     "data": {
      "text/html": [
       "<table>\n",
       "<thead><tr><th scope=col>target</th><th scope=col>val</th><th scope=col>condition</th><th scope=col>type_specific</th><th scope=col>response</th><th scope=col>nr_val</th><th scope=col>prob</th><th scope=col>diff</th></tr></thead>\n",
       "<tbody>\n",
       "\t<tr><td>1        </td><td>neg      </td><td>many_one </td><td>CS       </td><td> 7       </td><td>15       </td><td>0.4666667</td><td>0.1583333</td></tr>\n",
       "\t<tr><td>10       </td><td>neg      </td><td>many_one </td><td>CS       </td><td>10       </td><td>24       </td><td>0.4166667</td><td>0.3833333</td></tr>\n",
       "\t<tr><td>11       </td><td>neg      </td><td>many_one </td><td>CS       </td><td> 6       </td><td>16       </td><td>0.3750000</td><td>0.2916667</td></tr>\n",
       "\t<tr><td>12       </td><td>neg      </td><td>many_one </td><td>CS       </td><td>10       </td><td>17       </td><td>0.5882353</td><td>0.2034314</td></tr>\n",
       "\t<tr><td>13       </td><td>neg      </td><td>many_one </td><td>CS       </td><td>13       </td><td>21       </td><td>0.6190476</td><td>0.0280112</td></tr>\n",
       "\t<tr><td>14       </td><td>neg      </td><td>many_one </td><td>CS       </td><td> 8       </td><td>16       </td><td>0.5000000</td><td>0.2000000</td></tr>\n",
       "</tbody>\n",
       "</table>\n"
      ],
      "text/latex": [
       "\\begin{tabular}{r|llllllll}\n",
       " target & val & condition & type\\_specific & response & nr\\_val & prob & diff\\\\\n",
       "\\hline\n",
       "\t 1          & neg        & many\\_one & CS         &  7         & 15         & 0.4666667  & 0.1583333 \\\\\n",
       "\t 10         & neg        & many\\_one & CS         & 10         & 24         & 0.4166667  & 0.3833333 \\\\\n",
       "\t 11         & neg        & many\\_one & CS         &  6         & 16         & 0.3750000  & 0.2916667 \\\\\n",
       "\t 12         & neg        & many\\_one & CS         & 10         & 17         & 0.5882353  & 0.2034314 \\\\\n",
       "\t 13         & neg        & many\\_one & CS         & 13         & 21         & 0.6190476  & 0.0280112 \\\\\n",
       "\t 14         & neg        & many\\_one & CS         &  8         & 16         & 0.5000000  & 0.2000000 \\\\\n",
       "\\end{tabular}\n"
      ],
      "text/markdown": [
       "\n",
       "| target | val | condition | type_specific | response | nr_val | prob | diff |\n",
       "|---|---|---|---|---|---|---|---|\n",
       "| 1         | neg       | many_one  | CS        |  7        | 15        | 0.4666667 | 0.1583333 |\n",
       "| 10        | neg       | many_one  | CS        | 10        | 24        | 0.4166667 | 0.3833333 |\n",
       "| 11        | neg       | many_one  | CS        |  6        | 16        | 0.3750000 | 0.2916667 |\n",
       "| 12        | neg       | many_one  | CS        | 10        | 17        | 0.5882353 | 0.2034314 |\n",
       "| 13        | neg       | many_one  | CS        | 13        | 21        | 0.6190476 | 0.0280112 |\n",
       "| 14        | neg       | many_one  | CS        |  8        | 16        | 0.5000000 | 0.2000000 |\n",
       "\n"
      ],
      "text/plain": [
       "  target val condition type_specific response nr_val prob      diff     \n",
       "1 1      neg many_one  CS             7       15     0.4666667 0.1583333\n",
       "2 10     neg many_one  CS            10       24     0.4166667 0.3833333\n",
       "3 11     neg many_one  CS             6       16     0.3750000 0.2916667\n",
       "4 12     neg many_one  CS            10       17     0.5882353 0.2034314\n",
       "5 13     neg many_one  CS            13       21     0.6190476 0.0280112\n",
       "6 14     neg many_one  CS             8       16     0.5000000 0.2000000"
      ]
     },
     "metadata": {},
     "output_type": "display_data"
    }
   ],
   "source": [
    "head(targetsIndirect)"
   ]
  },
  {
   "cell_type": "code",
   "execution_count": 68,
   "metadata": {},
   "outputs": [],
   "source": [
    "lmProbTargets <- lmer(diff ~ type_specific*condition*val + (type_specific|target), targetsIndirect)\n",
    "#summary(lmProbTargets)"
   ]
  },
  {
   "cell_type": "markdown",
   "metadata": {},
   "source": [
    "#### Barplot: targets (on difference scores)"
   ]
  },
  {
   "cell_type": "code",
   "execution_count": 73,
   "metadata": {},
   "outputs": [],
   "source": [
    "plot.targets <- aggregate(prob ~ target + val, targetsIndirect, mean)\n",
    "plot.targets$target <- as.factor(plot.targets$target)\n",
    "\n",
    "for(target in unique(plot.targets$target)){\n",
    "  temp <- plot.targets[plot.targets$target == target,]\n",
    "  plot.targets$diff[plot.targets$target == target] <- temp$prob[temp$val == \"pos\"] - temp$prob[temp$val == \"neg\"]\n",
    "}\n",
    "plotTarget <- ggplot(plot.targets[plot.targets$val == \"neg\",], aes (x = target, y = diff)) +\n",
    "  geom_point() +\n",
    "  ggtitle(\"Targets on x-axis\") + \n",
    "  theme(plot.title = element_text (hjust = 0.5, face = \"bold\", size = 12)) +\n",
    "  scale_color_brewer(palette = \"Set1\") +\n",
    "  scale_y_continuous(name = \"Difference (Prob. Angenehm | Pos) - (Prob Angenehm | Neg)\")\n",
    "#plotTarget"
   ]
  },
  {
   "cell_type": "markdown",
   "metadata": {},
   "source": [
    "### Inference Statistics (2) dichotome Variable"
   ]
  },
  {
   "cell_type": "code",
   "execution_count": 74,
   "metadata": {},
   "outputs": [
    {
     "data": {
      "text/html": [
       "<table>\n",
       "<thead><tr><th scope=col>Resid. Df</th><th scope=col>Resid. Dev</th><th scope=col>Df</th><th scope=col>Deviance</th><th scope=col>Pr(&gt;Chi)</th></tr></thead>\n",
       "<tbody>\n",
       "\t<tr><td>1599        </td><td>2757.800    </td><td>NA          </td><td>        NA  </td><td>          NA</td></tr>\n",
       "\t<tr><td>1594        </td><td>2565.947    </td><td> 5          </td><td>191.853173  </td><td>1.569128e-39</td></tr>\n",
       "\t<tr><td>1591        </td><td>2562.923    </td><td> 3          </td><td>  3.023662  </td><td>3.879914e-01</td></tr>\n",
       "\t<tr><td>1584        </td><td>2527.782    </td><td> 7          </td><td> 35.140735  </td><td>1.052343e-05</td></tr>\n",
       "</tbody>\n",
       "</table>\n"
      ],
      "text/latex": [
       "\\begin{tabular}{r|lllll}\n",
       " Resid. Df & Resid. Dev & Df & Deviance & Pr(>Chi)\\\\\n",
       "\\hline\n",
       "\t 1599         & 2757.800     & NA           &         NA   &           NA\\\\\n",
       "\t 1594         & 2565.947     &  5           & 191.853173   & 1.569128e-39\\\\\n",
       "\t 1591         & 2562.923     &  3           &   3.023662   & 3.879914e-01\\\\\n",
       "\t 1584         & 2527.782     &  7           &  35.140735   & 1.052343e-05\\\\\n",
       "\\end{tabular}\n"
      ],
      "text/markdown": [
       "\n",
       "| Resid. Df | Resid. Dev | Df | Deviance | Pr(>Chi) |\n",
       "|---|---|---|---|---|\n",
       "| 1599         | 2757.800     | NA           |         NA   |           NA |\n",
       "| 1594         | 2565.947     |  5           | 191.853173   | 1.569128e-39 |\n",
       "| 1591         | 2562.923     |  3           |   3.023662   | 3.879914e-01 |\n",
       "| 1584         | 2527.782     |  7           |  35.140735   | 1.052343e-05 |\n",
       "\n"
      ],
      "text/plain": [
       "  Resid. Df Resid. Dev Df Deviance   Pr(>Chi)    \n",
       "1 1599      2757.800   NA         NA           NA\n",
       "2 1594      2565.947    5 191.853173 1.569128e-39\n",
       "3 1591      2562.923    3   3.023662 3.879914e-01\n",
       "4 1584      2527.782    7  35.140735 1.052343e-05"
      ]
     },
     "metadata": {},
     "output_type": "display_data"
    },
    {
     "data": {
      "text/plain": [
       "\n",
       "Call:\n",
       "glm(formula = cbind(un, an) ~ condition * type_specific * val, \n",
       "    family = binomial, data = dataIndirect)\n",
       "\n",
       "Deviance Residuals: \n",
       "    Min       1Q   Median       3Q      Max  \n",
       "-3.2077  -1.1261   0.1294   0.6159   3.4250  \n",
       "\n",
       "Coefficients:\n",
       "                                              Estimate Std. Error z value\n",
       "(Intercept)                                    0.29299    0.06425   4.560\n",
       "conditionone_one                              -0.25338    0.15472  -1.638\n",
       "type_specificGSold                             0.01239    0.10498   0.118\n",
       "type_specificGSnew                            -0.21888    0.10426  -2.099\n",
       "type_specificabstract                          0.11669    0.15871   0.735\n",
       "valpos                                        -0.91869    0.09261  -9.920\n",
       "conditionone_one:type_specificGSold           -0.18421    0.19354  -0.952\n",
       "conditionone_one:type_specificGSnew            0.07356    0.19313   0.381\n",
       "conditionone_one:type_specificabstract        -0.43532    0.25532  -1.705\n",
       "conditionone_one:valpos                        0.15608    0.22559   0.692\n",
       "type_specificGSold:valpos                      0.12576    0.15037   0.836\n",
       "type_specificGSnew:valpos                      0.58043    0.14890   3.898\n",
       "type_specificabstract:valpos                   0.03573    0.22582   0.158\n",
       "conditionone_one:type_specificGSold:valpos     0.26350    0.28033   0.940\n",
       "conditionone_one:type_specificGSnew:valpos    -0.09289    0.27919  -0.333\n",
       "conditionone_one:type_specificabstract:valpos  0.37160    0.36791   1.010\n",
       "                                              Pr(>|z|)    \n",
       "(Intercept)                                   5.11e-06 ***\n",
       "conditionone_one                                0.1015    \n",
       "type_specificGSold                              0.9060    \n",
       "type_specificGSnew                              0.0358 *  \n",
       "type_specificabstract                           0.4622    \n",
       "valpos                                         < 2e-16 ***\n",
       "conditionone_one:type_specificGSold             0.3412    \n",
       "conditionone_one:type_specificGSnew             0.7033    \n",
       "conditionone_one:type_specificabstract          0.0882 .  \n",
       "conditionone_one:valpos                         0.4890    \n",
       "type_specificGSold:valpos                       0.4030    \n",
       "type_specificGSnew:valpos                     9.70e-05 ***\n",
       "type_specificabstract:valpos                    0.8743    \n",
       "conditionone_one:type_specificGSold:valpos      0.3472    \n",
       "conditionone_one:type_specificGSnew:valpos      0.7394    \n",
       "conditionone_one:type_specificabstract:valpos   0.3125    \n",
       "---\n",
       "Signif. codes:  0 '***' 0.001 '**' 0.01 '*' 0.05 '.' 0.1 ' ' 1\n",
       "\n",
       "(Dispersion parameter for binomial family taken to be 1)\n",
       "\n",
       "    Null deviance: 2757.8  on 1599  degrees of freedom\n",
       "Residual deviance: 2527.8  on 1584  degrees of freedom\n",
       "AIC: 4982.7\n",
       "\n",
       "Number of Fisher Scoring iterations: 4\n"
      ]
     },
     "metadata": {},
     "output_type": "display_data"
    }
   ],
   "source": [
    "#GLM on (un, an)\n",
    "glm1 <- glm(cbind(un, an) ~ 1, binomial, dataIndirect) #minimal model\n",
    "glm2 <- glm(cbind(un, an) ~ condition + type_specific + val, binomial, dataIndirect)\n",
    "glm3 <- glm(cbind(un, an) ~ condition* type_specific + val, binomial, dataIndirect)\n",
    "glm4 <- glm(cbind(un, an) ~ condition* type_specific * val, binomial, dataIndirect) #saturated model\n",
    "anova(glm1, glm2, glm3, glm4, test = \"LRT\")\n",
    "summary(glm4)"
   ]
  },
  {
   "cell_type": "code",
   "execution_count": 310,
   "metadata": {},
   "outputs": [
    {
     "data": {
      "text/html": [
       "<strong>1:</strong> 0.50990099009901"
      ],
      "text/latex": [
       "\\textbf{1:} 0.50990099009901"
      ],
      "text/markdown": [
       "**1:** 0.50990099009901"
      ],
      "text/plain": [
       "       1 \n",
       "0.509901 "
      ]
     },
     "metadata": {},
     "output_type": "display_data"
    },
    {
     "data": {
      "text/html": [
       "<strong>1:</strong> 0.405940594059406"
      ],
      "text/latex": [
       "\\textbf{1:} 0.405940594059406"
      ],
      "text/markdown": [
       "**1:** 0.405940594059406"
      ],
      "text/plain": [
       "        1 \n",
       "0.4059406 "
      ]
     },
     "metadata": {},
     "output_type": "display_data"
    }
   ],
   "source": [
    "#main effect condition\n",
    "predict(glm4, data.frame(condition = \"one_one\", type_specific = \"CS\", val = 'neg'), type = \"resp\")\n",
    "predict(glm4, data.frame(condition = \"one_one\", type_specific = \"GSnew\", val = 'pos'), type = \"resp\")\n",
    "#\"WK angenehm bei one_one und CS\""
   ]
  },
  {
   "cell_type": "markdown",
   "metadata": {},
   "source": [
    "### Additional plots indirect measure"
   ]
  },
  {
   "cell_type": "markdown",
   "metadata": {},
   "source": [
    "#### Barplot: Type_specific * Variability * Measure"
   ]
  },
  {
   "cell_type": "code",
   "execution_count": 75,
   "metadata": {},
   "outputs": [
    {
     "data": {
      "image/png": "[encoded data removed]",
      "text/plain": [
       "plot without title"
      ]
     },
     "metadata": {},
     "output_type": "display_data"
    }
   ],
   "source": [
    "barplotDiffMeasure <- aggregate(prob ~ val + type_specific + measure, dataIndirect, mean)\n",
    "barplotDiffMeasure$se <- aggregate(prob ~ val + type_specific + measure, dataIndirect, se)[[4]]\n",
    "\n",
    "indirect.Measure <- ggplot(barplotDiffMeasure, aes (x = type_specific, y = prob, fill = measure)) +\n",
    "  facet_grid(. ~ val) +\n",
    "  geom_bar(stat = 'identity', position = position_dodge(), show.legend = TRUE) +\n",
    "  geom_errorbar(aes(ymin= prob - se, ymax= prob + se), width=.2,\n",
    "                position=position_dodge(.9)) +\n",
    "  ggtitle(\"Measure\") + \n",
    "  theme(plot.title = element_text (hjust = 0.5, face = \"bold\", size = 12)) +\n",
    "  scale_fill_brewer(palette = \"Paired\")  + \n",
    "  scale_y_continuous(name = \"Prob. of 'Angenehm'\")+\n",
    "    geom_hline(yintercept = 0.5, color = \"red\")\n",
    "indirect.Measure"
   ]
  },
  {
   "cell_type": "markdown",
   "metadata": {},
   "source": [
    "#### Scatterplot: Location in Presentation Order (on probabilities)"
   ]
  },
  {
   "cell_type": "code",
   "execution_count": 76,
   "metadata": {},
   "outputs": [],
   "source": [
    "presOrder <- aggregate(response ~ nr_pres + val , indirect, sum)\n",
    "presOrder$nr_val <- aggregate(response ~ nr_pres + val, indirect, length) [[3]]\n",
    "presOrder$se <- aggregate(response ~ nr_pres + val, indirect, se) [[3]]\n",
    "presOrder$prob <- (presOrder$response/presOrder$nr_val)\n",
    "#head(presOrder)\n",
    "\n",
    "#aggregate(prob ~ val + type_specific, dataIndirect, mean)\n",
    "plot.presOrder <- ggplot(presOrder, aes (x = nr_pres, y = prob, col = val)) +\n",
    "  geom_point(show.legend = TRUE) +\n",
    "  geom_hline(yintercept = 0.5, color = \"red\") +\n",
    "  ggtitle(\"Positive and Negative Pairings\") + \n",
    "  theme(plot.title = element_text (hjust = 0.5, face = \"bold\", size = 12)) +\n",
    "  scale_color_brewer(palette = \"Set1\") +\n",
    "  scale_y_continuous(name = \"Prob. of 'Angenehm'\")\n",
    "#plot.presOrder"
   ]
  },
  {
   "cell_type": "markdown",
   "metadata": {},
   "source": [
    "#### Scatterplot: Location in Presentation Order (on reaction times)"
   ]
  },
  {
   "cell_type": "code",
   "execution_count": 2,
   "metadata": {},
   "outputs": [
    {
     "ename": "ERROR",
     "evalue": "Error in eval(m$data, parent.frame()): Objekt 'indirect' nicht gefunden\n",
     "output_type": "error",
     "traceback": [
      "Error in eval(m$data, parent.frame()): Objekt 'indirect' nicht gefunden\nTraceback:\n",
      "1. aggregate(rt ~ condition + type_specific, indirect, mean)",
      "2. aggregate.formula(rt ~ condition + type_specific, indirect, mean)",
      "3. eval(m$data, parent.frame())",
      "4. eval(m$data, parent.frame())"
     ]
    }
   ],
   "source": [
    "presOrder <- aggregate(rt ~ condition + type_specific, indirect, mean)\n",
    "presOrder$se <- aggregate(rt ~ condition + type_specific, indirect, se) [[2]]\n",
    "\n",
    "#aggregate(prob ~ val + type_specific, dataIndirect, mean)\n",
    "plot.presOrder <- ggplot(presOrder, aes (x = type_specific, y = rt, col = condition)) +\n",
    "  geom_point(show.legend = TRUE) +\n",
    "  ggtitle(\"Reaction Times\") + \n",
    "  theme(plot.title = element_text (hjust = 0.5, face = \"bold\", size = 12)) +\n",
    "  scale_color_brewer(palette = \"Set1\") +\n",
    "  scale_y_continuous(name = \"Presentation Order\")\n",
    "plot.presOrder"
   ]
  },
  {
   "cell_type": "markdown",
   "metadata": {},
   "source": [
    "#### Boxplot: categories (on probabilities)"
   ]
  },
  {
   "cell_type": "code",
   "execution_count": 78,
   "metadata": {},
   "outputs": [
    {
     "data": {
      "image/png": "[encoded data removed]",
      "text/plain": [
       "plot without title"
      ]
     },
     "metadata": {},
     "output_type": "display_data"
    }
   ],
   "source": [
    "categoryIndirect <- aggregate(response ~  condition  + val +type_specific + category, indirect, sum )\n",
    "categoryIndirect$nr_val <- aggregate(response ~ condition + val + type_specific + category, indirect, length)[[5]]\n",
    "categoryIndirect$prob <- (categoryIndirect$response/categoryIndirect$nr_val)\n",
    "#head(categoryIndirect)\n",
    "\n",
    "plot.categories <- ggplot(categoryIndirect, aes (x = category, y = prob, fill = val)) +\n",
    "  stat_boxplot(geom = \"errorbar\") +\n",
    "  geom_boxplot(show.legend = TRUE) +\n",
    "  geom_hline(yintercept = 0.5, color = \"red\") +\n",
    "  ggtitle(\"Categories\") + \n",
    "  theme(plot.title = element_text (hjust = 0.5, face = \"bold\", size = 12)) +\n",
    "  scale_fill_brewer(palette = \"Blues\") \n",
    "plot.categories"
   ]
  },
  {
   "cell_type": "markdown",
   "metadata": {},
   "source": [
    "### Correlations between dependent measures"
   ]
  },
  {
   "cell_type": "code",
   "execution_count": null,
   "metadata": {},
   "outputs": [],
   "source": [
    "temp <- direct[!direct$type_specific == \"all\",]\n",
    "indirect$responseDirect <- temp$response\n",
    "indirect$responseIndirect <- as.factor(indirect$response)"
   ]
  },
  {
   "cell_type": "code",
   "execution_count": null,
   "metadata": {},
   "outputs": [],
   "source": [
    "#predict direct responses with answers from indirect responses: for positive pairings\n",
    "\n",
    "#plot(responseDirect ~ responseIndirect, indirect[indirect$val == \"pos\",])\n",
    "lm.pos <- lm(responseDirect ~ responseIndirect,indirect[indirect$val == \"pos\",])\n",
    "#summary(lm.pos)"
   ]
  },
  {
   "cell_type": "code",
   "execution_count": null,
   "metadata": {},
   "outputs": [],
   "source": [
    "#predict direct responses with answers from indirect responses: for positive pairings\n",
    "\n",
    "#plot(responseDirect ~ responseIndirect, indirect[indirect$val == \"neg\",])\n",
    "lm.neg <- lm(responseDirect ~ responseIndirect,indirect[indirect$val == \"neg\",])\n",
    "#summary(lm.neg)"
   ]
  },
  {
   "cell_type": "code",
   "execution_count": null,
   "metadata": {},
   "outputs": [],
   "source": [
    "#calculate correlations\n",
    "cor(indirect$responseDirect[indirect$val == \"pos\"], indirect$response[indirect$val == \"pos\"])\n",
    "cor(indirect$responseDirect[indirect$val == \"neg\"], indirect$response[indirect$val == \"neg\"])"
   ]
  }
 ],
 "metadata": {
  "kernelspec": {
   "display_name": "R",
   "language": "R",
   "name": "ir"
  },
  "language_info": {
   "codemirror_mode": "r",
   "file_extension": ".r",
   "mimetype": "text/x-r-source",
   "name": "R",
   "pygments_lexer": "r",
   "version": "3.6.1"
  }
 },
 "nbformat": 4,
 "nbformat_minor": 4
}
